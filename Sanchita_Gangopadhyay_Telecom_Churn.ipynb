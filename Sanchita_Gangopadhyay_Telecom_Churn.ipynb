{
 "cells": [
  {
   "cell_type": "markdown",
   "id": "bd60378f",
   "metadata": {},
   "source": [
    "<b>Objective:<b> Build ML models to predict churn. The predictive model that we’re going to build will the following purposes:\n",
    "\n",
    "-It will be used to predict whether a high-value customer will churn or not, in near future (i.e. churn phase). By knowing this, the company can take action steps such as providing special plans, discounts on recharge etc.\n",
    "\n",
    "-It will be used to identify important variables that are strong predictors of churn. These variables may also indicate why customers choose to switch to other networks.\n",
    "\n",
    "-Even though overall accuracy will be your primary evaluation metric, you should also mention other metrics like precision, recall, etc. for the different models that can be used for evaluation purposes based on different business objectives. For example, in this problem statement, one business goal can be to build an ML model that identifies customers who'll definitely churn with more accuracy as compared to the ones who'll not churn. Make sure you mention which metric can be used in such scenarios.\n",
    "\n",
    " -Recommend strategies to manage customer churn based on your observations."
   ]
  },
  {
   "cell_type": "code",
   "execution_count": 1,
   "id": "7ea019b6",
   "metadata": {},
   "outputs": [],
   "source": [
    "# Imports\n",
    "import pandas as pd\n",
    "import numpy as np\n",
    "import seaborn as sns\n",
    "import matplotlib.pyplot as plt\n",
    "import warnings\n",
    "warnings.filterwarnings(\"ignore\")"
   ]
  },
  {
   "cell_type": "code",
   "execution_count": 2,
   "id": "fb08e0dd",
   "metadata": {},
   "outputs": [
    {
     "data": {
      "text/html": [
       "<div>\n",
       "<style scoped>\n",
       "    .dataframe tbody tr th:only-of-type {\n",
       "        vertical-align: middle;\n",
       "    }\n",
       "\n",
       "    .dataframe tbody tr th {\n",
       "        vertical-align: top;\n",
       "    }\n",
       "\n",
       "    .dataframe thead th {\n",
       "        text-align: right;\n",
       "    }\n",
       "</style>\n",
       "<table border=\"1\" class=\"dataframe\">\n",
       "  <thead>\n",
       "    <tr style=\"text-align: right;\">\n",
       "      <th></th>\n",
       "      <th>id</th>\n",
       "      <th>circle_id</th>\n",
       "      <th>loc_og_t2o_mou</th>\n",
       "      <th>std_og_t2o_mou</th>\n",
       "      <th>loc_ic_t2o_mou</th>\n",
       "      <th>last_date_of_month_6</th>\n",
       "      <th>last_date_of_month_7</th>\n",
       "      <th>last_date_of_month_8</th>\n",
       "      <th>arpu_6</th>\n",
       "      <th>arpu_7</th>\n",
       "      <th>...</th>\n",
       "      <th>sachet_3g_7</th>\n",
       "      <th>sachet_3g_8</th>\n",
       "      <th>fb_user_6</th>\n",
       "      <th>fb_user_7</th>\n",
       "      <th>fb_user_8</th>\n",
       "      <th>aon</th>\n",
       "      <th>aug_vbc_3g</th>\n",
       "      <th>jul_vbc_3g</th>\n",
       "      <th>jun_vbc_3g</th>\n",
       "      <th>churn_probability</th>\n",
       "    </tr>\n",
       "  </thead>\n",
       "  <tbody>\n",
       "    <tr>\n",
       "      <th>0</th>\n",
       "      <td>0</td>\n",
       "      <td>109</td>\n",
       "      <td>0.0</td>\n",
       "      <td>0.0</td>\n",
       "      <td>0.0</td>\n",
       "      <td>6/30/2014</td>\n",
       "      <td>7/31/2014</td>\n",
       "      <td>8/31/2014</td>\n",
       "      <td>31.277</td>\n",
       "      <td>87.009</td>\n",
       "      <td>...</td>\n",
       "      <td>0</td>\n",
       "      <td>0</td>\n",
       "      <td>NaN</td>\n",
       "      <td>NaN</td>\n",
       "      <td>NaN</td>\n",
       "      <td>1958</td>\n",
       "      <td>0.0</td>\n",
       "      <td>0.0</td>\n",
       "      <td>0.0</td>\n",
       "      <td>0</td>\n",
       "    </tr>\n",
       "    <tr>\n",
       "      <th>1</th>\n",
       "      <td>1</td>\n",
       "      <td>109</td>\n",
       "      <td>0.0</td>\n",
       "      <td>0.0</td>\n",
       "      <td>0.0</td>\n",
       "      <td>6/30/2014</td>\n",
       "      <td>7/31/2014</td>\n",
       "      <td>8/31/2014</td>\n",
       "      <td>0.000</td>\n",
       "      <td>122.787</td>\n",
       "      <td>...</td>\n",
       "      <td>0</td>\n",
       "      <td>0</td>\n",
       "      <td>NaN</td>\n",
       "      <td>1.0</td>\n",
       "      <td>NaN</td>\n",
       "      <td>710</td>\n",
       "      <td>0.0</td>\n",
       "      <td>0.0</td>\n",
       "      <td>0.0</td>\n",
       "      <td>0</td>\n",
       "    </tr>\n",
       "    <tr>\n",
       "      <th>2</th>\n",
       "      <td>2</td>\n",
       "      <td>109</td>\n",
       "      <td>0.0</td>\n",
       "      <td>0.0</td>\n",
       "      <td>0.0</td>\n",
       "      <td>6/30/2014</td>\n",
       "      <td>7/31/2014</td>\n",
       "      <td>8/31/2014</td>\n",
       "      <td>60.806</td>\n",
       "      <td>103.176</td>\n",
       "      <td>...</td>\n",
       "      <td>0</td>\n",
       "      <td>0</td>\n",
       "      <td>NaN</td>\n",
       "      <td>NaN</td>\n",
       "      <td>NaN</td>\n",
       "      <td>882</td>\n",
       "      <td>0.0</td>\n",
       "      <td>0.0</td>\n",
       "      <td>0.0</td>\n",
       "      <td>0</td>\n",
       "    </tr>\n",
       "    <tr>\n",
       "      <th>3</th>\n",
       "      <td>3</td>\n",
       "      <td>109</td>\n",
       "      <td>0.0</td>\n",
       "      <td>0.0</td>\n",
       "      <td>0.0</td>\n",
       "      <td>6/30/2014</td>\n",
       "      <td>7/31/2014</td>\n",
       "      <td>8/31/2014</td>\n",
       "      <td>156.362</td>\n",
       "      <td>205.260</td>\n",
       "      <td>...</td>\n",
       "      <td>0</td>\n",
       "      <td>0</td>\n",
       "      <td>NaN</td>\n",
       "      <td>NaN</td>\n",
       "      <td>NaN</td>\n",
       "      <td>982</td>\n",
       "      <td>0.0</td>\n",
       "      <td>0.0</td>\n",
       "      <td>0.0</td>\n",
       "      <td>0</td>\n",
       "    </tr>\n",
       "    <tr>\n",
       "      <th>4</th>\n",
       "      <td>4</td>\n",
       "      <td>109</td>\n",
       "      <td>0.0</td>\n",
       "      <td>0.0</td>\n",
       "      <td>0.0</td>\n",
       "      <td>6/30/2014</td>\n",
       "      <td>7/31/2014</td>\n",
       "      <td>8/31/2014</td>\n",
       "      <td>240.708</td>\n",
       "      <td>128.191</td>\n",
       "      <td>...</td>\n",
       "      <td>1</td>\n",
       "      <td>0</td>\n",
       "      <td>1.0</td>\n",
       "      <td>1.0</td>\n",
       "      <td>1.0</td>\n",
       "      <td>647</td>\n",
       "      <td>0.0</td>\n",
       "      <td>0.0</td>\n",
       "      <td>0.0</td>\n",
       "      <td>0</td>\n",
       "    </tr>\n",
       "  </tbody>\n",
       "</table>\n",
       "<p>5 rows × 172 columns</p>\n",
       "</div>"
      ],
      "text/plain": [
       "   id  circle_id  loc_og_t2o_mou  std_og_t2o_mou  loc_ic_t2o_mou  \\\n",
       "0   0        109             0.0             0.0             0.0   \n",
       "1   1        109             0.0             0.0             0.0   \n",
       "2   2        109             0.0             0.0             0.0   \n",
       "3   3        109             0.0             0.0             0.0   \n",
       "4   4        109             0.0             0.0             0.0   \n",
       "\n",
       "  last_date_of_month_6 last_date_of_month_7 last_date_of_month_8   arpu_6  \\\n",
       "0            6/30/2014            7/31/2014            8/31/2014   31.277   \n",
       "1            6/30/2014            7/31/2014            8/31/2014    0.000   \n",
       "2            6/30/2014            7/31/2014            8/31/2014   60.806   \n",
       "3            6/30/2014            7/31/2014            8/31/2014  156.362   \n",
       "4            6/30/2014            7/31/2014            8/31/2014  240.708   \n",
       "\n",
       "    arpu_7  ...  sachet_3g_7  sachet_3g_8  fb_user_6  fb_user_7  fb_user_8  \\\n",
       "0   87.009  ...            0            0        NaN        NaN        NaN   \n",
       "1  122.787  ...            0            0        NaN        1.0        NaN   \n",
       "2  103.176  ...            0            0        NaN        NaN        NaN   \n",
       "3  205.260  ...            0            0        NaN        NaN        NaN   \n",
       "4  128.191  ...            1            0        1.0        1.0        1.0   \n",
       "\n",
       "    aon  aug_vbc_3g  jul_vbc_3g  jun_vbc_3g  churn_probability  \n",
       "0  1958         0.0         0.0         0.0                  0  \n",
       "1   710         0.0         0.0         0.0                  0  \n",
       "2   882         0.0         0.0         0.0                  0  \n",
       "3   982         0.0         0.0         0.0                  0  \n",
       "4   647         0.0         0.0         0.0                  0  \n",
       "\n",
       "[5 rows x 172 columns]"
      ]
     },
     "execution_count": 2,
     "metadata": {},
     "output_type": "execute_result"
    }
   ],
   "source": [
    "# Read training data\n",
    "df_train = pd.read_csv(\"train (1).csv\")\n",
    "df_train.head()"
   ]
  },
  {
   "cell_type": "code",
   "execution_count": 3,
   "id": "22f08a5f",
   "metadata": {},
   "outputs": [
    {
     "data": {
      "text/plain": [
       "(69999, 172)"
      ]
     },
     "execution_count": 3,
     "metadata": {},
     "output_type": "execute_result"
    }
   ],
   "source": [
    "df_train.shape"
   ]
  },
  {
   "cell_type": "code",
   "execution_count": 4,
   "id": "0b6dac94",
   "metadata": {},
   "outputs": [
    {
     "data": {
      "text/plain": [
       "id                     0\n",
       "circle_id              0\n",
       "loc_og_t2o_mou       702\n",
       "std_og_t2o_mou       702\n",
       "loc_ic_t2o_mou       702\n",
       "                    ... \n",
       "aon                    0\n",
       "aug_vbc_3g             0\n",
       "jul_vbc_3g             0\n",
       "jun_vbc_3g             0\n",
       "churn_probability      0\n",
       "Length: 172, dtype: int64"
      ]
     },
     "execution_count": 4,
     "metadata": {},
     "output_type": "execute_result"
    }
   ],
   "source": [
    "# Check for null values\n",
    "df_train.isna().sum()"
   ]
  },
  {
   "cell_type": "code",
   "execution_count": 5,
   "id": "8d306074",
   "metadata": {},
   "outputs": [
    {
     "data": {
      "text/plain": [
       "id                   0\n",
       "circle_id            0\n",
       "loc_og_t2o_mou       0\n",
       "std_og_t2o_mou       0\n",
       "loc_ic_t2o_mou       0\n",
       "                    ..\n",
       "aon                  0\n",
       "aug_vbc_3g           0\n",
       "jul_vbc_3g           0\n",
       "jun_vbc_3g           0\n",
       "churn_probability    0\n",
       "Length: 172, dtype: int64"
      ]
     },
     "execution_count": 5,
     "metadata": {},
     "output_type": "execute_result"
    }
   ],
   "source": [
    "# Some cols have blank values, replace all blanks with zero\n",
    "df_train.fillna(value=0, inplace=True)\n",
    "df_train.isna().sum()"
   ]
  },
  {
   "cell_type": "markdown",
   "id": "73059f92",
   "metadata": {},
   "source": [
    "## 1. Data Cleanup for training set"
   ]
  },
  {
   "cell_type": "code",
   "execution_count": 6,
   "id": "0509c232",
   "metadata": {},
   "outputs": [
    {
     "data": {
      "text/plain": [
       "Index(['loc_og_t2o_mou', 'std_og_t2o_mou', 'loc_ic_t2o_mou',\n",
       "       'std_og_t2c_mou_6', 'std_og_t2c_mou_7', 'std_og_t2c_mou_8',\n",
       "       'std_ic_t2o_mou_6', 'std_ic_t2o_mou_7', 'std_ic_t2o_mou_8'],\n",
       "      dtype='object')"
      ]
     },
     "execution_count": 6,
     "metadata": {},
     "output_type": "execute_result"
    }
   ],
   "source": [
    "# list of columns with all zero values\n",
    "lst = df_train.columns[(df_train == 0).all()]\n",
    "lst"
   ]
  },
  {
   "cell_type": "code",
   "execution_count": 7,
   "id": "2e33967e",
   "metadata": {},
   "outputs": [
    {
     "data": {
      "text/plain": [
       "(69999, 163)"
      ]
     },
     "execution_count": 7,
     "metadata": {},
     "output_type": "execute_result"
    }
   ],
   "source": [
    "# Delete cols with all zero values\n",
    "df_train = df_train.loc[:, (df_train != 0).any(axis=0)]\n",
    "df_train.shape"
   ]
  },
  {
   "cell_type": "code",
   "execution_count": 8,
   "id": "f01a5ccf",
   "metadata": {},
   "outputs": [
    {
     "name": "stdout",
     "output_type": "stream",
     "text": [
      "<class 'pandas.core.frame.DataFrame'>\n",
      "RangeIndex: 69999 entries, 0 to 69998\n",
      "Columns: 163 entries, id to churn_probability\n",
      "dtypes: float64(126), int64(28), object(9)\n",
      "memory usage: 87.1+ MB\n"
     ]
    }
   ],
   "source": [
    "df_train.info()"
   ]
  },
  {
   "cell_type": "code",
   "execution_count": 9,
   "id": "2b49db1e",
   "metadata": {},
   "outputs": [
    {
     "data": {
      "text/plain": [
       "array([], shape=(0, 163), dtype=object)"
      ]
     },
     "execution_count": 9,
     "metadata": {},
     "output_type": "execute_result"
    }
   ],
   "source": [
    "# Check for duplicate rows\n",
    "df_train.columns[(df_train.duplicated() == True).all()]"
   ]
  },
  {
   "cell_type": "code",
   "execution_count": 10,
   "id": "8f3f1f2b",
   "metadata": {},
   "outputs": [
    {
     "data": {
      "text/plain": [
       "Index(['roam_ic_mou_6', 'roam_ic_mou_7', 'roam_ic_mou_8', 'roam_og_mou_6',\n",
       "       'roam_og_mou_7', 'roam_og_mou_8', 'loc_og_t2c_mou_6',\n",
       "       'std_og_t2f_mou_6', 'std_og_t2f_mou_7', 'std_og_t2f_mou_8',\n",
       "       'isd_og_mou_6', 'isd_og_mou_7', 'isd_og_mou_8', 'og_others_6',\n",
       "       'og_others_7', 'og_others_8', 'spl_ic_mou_7', 'spl_ic_mou_8',\n",
       "       'isd_ic_mou_6', 'isd_ic_mou_7', 'isd_ic_mou_8', 'ic_others_7',\n",
       "       'count_rech_2g_6', 'count_rech_2g_7', 'count_rech_3g_6',\n",
       "       'count_rech_3g_7', 'count_rech_3g_8', 'vol_3g_mb_6', 'vol_3g_mb_7',\n",
       "       'vol_3g_mb_8', 'arpu_3g_6', 'arpu_3g_7', 'arpu_3g_8', 'arpu_2g_6',\n",
       "       'arpu_2g_7', 'arpu_2g_8', 'night_pck_user_6', 'night_pck_user_7',\n",
       "       'night_pck_user_8', 'monthly_2g_6', 'monthly_2g_7', 'monthly_2g_8',\n",
       "       'sachet_2g_6', 'sachet_2g_7', 'sachet_2g_8', 'monthly_3g_6',\n",
       "       'monthly_3g_7', 'monthly_3g_8', 'sachet_3g_6', 'sachet_3g_7',\n",
       "       'sachet_3g_8', 'aug_vbc_3g', 'jul_vbc_3g', 'jun_vbc_3g',\n",
       "       'churn_probability'],\n",
       "      dtype='object')"
      ]
     },
     "execution_count": 10,
     "metadata": {},
     "output_type": "execute_result"
    }
   ],
   "source": [
    "# Columns with more than 80% zero values\n",
    "df_train.columns[((df_train==0).sum() > 56000)]"
   ]
  },
  {
   "cell_type": "code",
   "execution_count": 11,
   "id": "08dedda3",
   "metadata": {},
   "outputs": [
    {
     "data": {
      "text/html": [
       "<div>\n",
       "<style scoped>\n",
       "    .dataframe tbody tr th:only-of-type {\n",
       "        vertical-align: middle;\n",
       "    }\n",
       "\n",
       "    .dataframe tbody tr th {\n",
       "        vertical-align: top;\n",
       "    }\n",
       "\n",
       "    .dataframe thead th {\n",
       "        text-align: right;\n",
       "    }\n",
       "</style>\n",
       "<table border=\"1\" class=\"dataframe\">\n",
       "  <thead>\n",
       "    <tr style=\"text-align: right;\">\n",
       "      <th></th>\n",
       "      <th>last_date_of_month_6</th>\n",
       "      <th>last_date_of_month_7</th>\n",
       "      <th>last_date_of_month_8</th>\n",
       "      <th>date_of_last_rech_6</th>\n",
       "      <th>date_of_last_rech_7</th>\n",
       "      <th>date_of_last_rech_8</th>\n",
       "      <th>date_of_last_rech_data_6</th>\n",
       "      <th>date_of_last_rech_data_7</th>\n",
       "      <th>date_of_last_rech_data_8</th>\n",
       "    </tr>\n",
       "  </thead>\n",
       "  <tbody>\n",
       "    <tr>\n",
       "      <th>0</th>\n",
       "      <td>6/30/2014</td>\n",
       "      <td>7/31/2014</td>\n",
       "      <td>8/31/2014</td>\n",
       "      <td>6/22/2014</td>\n",
       "      <td>7/10/2014</td>\n",
       "      <td>8/24/2014</td>\n",
       "      <td>0</td>\n",
       "      <td>0</td>\n",
       "      <td>0</td>\n",
       "    </tr>\n",
       "    <tr>\n",
       "      <th>1</th>\n",
       "      <td>6/30/2014</td>\n",
       "      <td>7/31/2014</td>\n",
       "      <td>8/31/2014</td>\n",
       "      <td>6/12/2014</td>\n",
       "      <td>7/10/2014</td>\n",
       "      <td>8/26/2014</td>\n",
       "      <td>0</td>\n",
       "      <td>7/8/2014</td>\n",
       "      <td>0</td>\n",
       "    </tr>\n",
       "    <tr>\n",
       "      <th>2</th>\n",
       "      <td>6/30/2014</td>\n",
       "      <td>7/31/2014</td>\n",
       "      <td>8/31/2014</td>\n",
       "      <td>6/11/2014</td>\n",
       "      <td>7/22/2014</td>\n",
       "      <td>8/24/2014</td>\n",
       "      <td>0</td>\n",
       "      <td>0</td>\n",
       "      <td>0</td>\n",
       "    </tr>\n",
       "    <tr>\n",
       "      <th>3</th>\n",
       "      <td>6/30/2014</td>\n",
       "      <td>7/31/2014</td>\n",
       "      <td>8/31/2014</td>\n",
       "      <td>6/15/2014</td>\n",
       "      <td>7/21/2014</td>\n",
       "      <td>8/25/2014</td>\n",
       "      <td>0</td>\n",
       "      <td>0</td>\n",
       "      <td>0</td>\n",
       "    </tr>\n",
       "    <tr>\n",
       "      <th>4</th>\n",
       "      <td>6/30/2014</td>\n",
       "      <td>7/31/2014</td>\n",
       "      <td>8/31/2014</td>\n",
       "      <td>6/25/2014</td>\n",
       "      <td>7/26/2014</td>\n",
       "      <td>8/30/2014</td>\n",
       "      <td>6/25/2014</td>\n",
       "      <td>7/23/2014</td>\n",
       "      <td>8/20/2014</td>\n",
       "    </tr>\n",
       "    <tr>\n",
       "      <th>...</th>\n",
       "      <td>...</td>\n",
       "      <td>...</td>\n",
       "      <td>...</td>\n",
       "      <td>...</td>\n",
       "      <td>...</td>\n",
       "      <td>...</td>\n",
       "      <td>...</td>\n",
       "      <td>...</td>\n",
       "      <td>...</td>\n",
       "    </tr>\n",
       "    <tr>\n",
       "      <th>69994</th>\n",
       "      <td>6/30/2014</td>\n",
       "      <td>7/31/2014</td>\n",
       "      <td>8/31/2014</td>\n",
       "      <td>6/18/2014</td>\n",
       "      <td>7/31/2014</td>\n",
       "      <td>8/31/2014</td>\n",
       "      <td>0</td>\n",
       "      <td>7/31/2014</td>\n",
       "      <td>8/21/2014</td>\n",
       "    </tr>\n",
       "    <tr>\n",
       "      <th>69995</th>\n",
       "      <td>6/30/2014</td>\n",
       "      <td>7/31/2014</td>\n",
       "      <td>8/31/2014</td>\n",
       "      <td>6/28/2014</td>\n",
       "      <td>7/31/2014</td>\n",
       "      <td>8/27/2014</td>\n",
       "      <td>0</td>\n",
       "      <td>0</td>\n",
       "      <td>0</td>\n",
       "    </tr>\n",
       "    <tr>\n",
       "      <th>69996</th>\n",
       "      <td>6/30/2014</td>\n",
       "      <td>7/31/2014</td>\n",
       "      <td>8/31/2014</td>\n",
       "      <td>6/25/2014</td>\n",
       "      <td>7/30/2014</td>\n",
       "      <td>8/29/2014</td>\n",
       "      <td>0</td>\n",
       "      <td>0</td>\n",
       "      <td>0</td>\n",
       "    </tr>\n",
       "    <tr>\n",
       "      <th>69997</th>\n",
       "      <td>6/30/2014</td>\n",
       "      <td>7/31/2014</td>\n",
       "      <td>8/31/2014</td>\n",
       "      <td>6/29/2014</td>\n",
       "      <td>7/19/2014</td>\n",
       "      <td>8/26/2014</td>\n",
       "      <td>6/17/2014</td>\n",
       "      <td>7/13/2014</td>\n",
       "      <td>8/14/2014</td>\n",
       "    </tr>\n",
       "    <tr>\n",
       "      <th>69998</th>\n",
       "      <td>6/30/2014</td>\n",
       "      <td>7/31/2014</td>\n",
       "      <td>8/31/2014</td>\n",
       "      <td>6/19/2014</td>\n",
       "      <td>7/27/2014</td>\n",
       "      <td>8/25/2014</td>\n",
       "      <td>6/19/2014</td>\n",
       "      <td>0</td>\n",
       "      <td>8/8/2014</td>\n",
       "    </tr>\n",
       "  </tbody>\n",
       "</table>\n",
       "<p>69999 rows × 9 columns</p>\n",
       "</div>"
      ],
      "text/plain": [
       "      last_date_of_month_6 last_date_of_month_7 last_date_of_month_8  \\\n",
       "0                6/30/2014            7/31/2014            8/31/2014   \n",
       "1                6/30/2014            7/31/2014            8/31/2014   \n",
       "2                6/30/2014            7/31/2014            8/31/2014   \n",
       "3                6/30/2014            7/31/2014            8/31/2014   \n",
       "4                6/30/2014            7/31/2014            8/31/2014   \n",
       "...                    ...                  ...                  ...   \n",
       "69994            6/30/2014            7/31/2014            8/31/2014   \n",
       "69995            6/30/2014            7/31/2014            8/31/2014   \n",
       "69996            6/30/2014            7/31/2014            8/31/2014   \n",
       "69997            6/30/2014            7/31/2014            8/31/2014   \n",
       "69998            6/30/2014            7/31/2014            8/31/2014   \n",
       "\n",
       "      date_of_last_rech_6 date_of_last_rech_7 date_of_last_rech_8  \\\n",
       "0               6/22/2014           7/10/2014           8/24/2014   \n",
       "1               6/12/2014           7/10/2014           8/26/2014   \n",
       "2               6/11/2014           7/22/2014           8/24/2014   \n",
       "3               6/15/2014           7/21/2014           8/25/2014   \n",
       "4               6/25/2014           7/26/2014           8/30/2014   \n",
       "...                   ...                 ...                 ...   \n",
       "69994           6/18/2014           7/31/2014           8/31/2014   \n",
       "69995           6/28/2014           7/31/2014           8/27/2014   \n",
       "69996           6/25/2014           7/30/2014           8/29/2014   \n",
       "69997           6/29/2014           7/19/2014           8/26/2014   \n",
       "69998           6/19/2014           7/27/2014           8/25/2014   \n",
       "\n",
       "      date_of_last_rech_data_6 date_of_last_rech_data_7  \\\n",
       "0                            0                        0   \n",
       "1                            0                 7/8/2014   \n",
       "2                            0                        0   \n",
       "3                            0                        0   \n",
       "4                    6/25/2014                7/23/2014   \n",
       "...                        ...                      ...   \n",
       "69994                        0                7/31/2014   \n",
       "69995                        0                        0   \n",
       "69996                        0                        0   \n",
       "69997                6/17/2014                7/13/2014   \n",
       "69998                6/19/2014                        0   \n",
       "\n",
       "      date_of_last_rech_data_8  \n",
       "0                            0  \n",
       "1                            0  \n",
       "2                            0  \n",
       "3                            0  \n",
       "4                    8/20/2014  \n",
       "...                        ...  \n",
       "69994                8/21/2014  \n",
       "69995                        0  \n",
       "69996                        0  \n",
       "69997                8/14/2014  \n",
       "69998                 8/8/2014  \n",
       "\n",
       "[69999 rows x 9 columns]"
      ]
     },
     "execution_count": 11,
     "metadata": {},
     "output_type": "execute_result"
    }
   ],
   "source": [
    "# Checking the Object datatype columns\n",
    "df_train.select_dtypes(include=[\"object\"])"
   ]
  },
  {
   "cell_type": "code",
   "execution_count": 12,
   "id": "98251a1f",
   "metadata": {},
   "outputs": [
    {
     "data": {
      "text/plain": [
       "count         69999\n",
       "unique            2\n",
       "top       8/31/2014\n",
       "freq          69266\n",
       "Name: last_date_of_month_8, dtype: object"
      ]
     },
     "execution_count": 12,
     "metadata": {},
     "output_type": "execute_result"
    }
   ],
   "source": [
    "# Dropping last_date_of_month_6, last_date_of_month_7, last_date_of_month_8\n",
    "df_train.last_date_of_month_8.describe()"
   ]
  },
  {
   "cell_type": "code",
   "execution_count": 13,
   "id": "93a510c5",
   "metadata": {},
   "outputs": [
    {
     "data": {
      "text/plain": [
       "(69999, 160)"
      ]
     },
     "execution_count": 13,
     "metadata": {},
     "output_type": "execute_result"
    }
   ],
   "source": [
    "df_train.drop([\"last_date_of_month_6\", \"last_date_of_month_7\", \"last_date_of_month_8\"], axis=1, inplace=True)\n",
    "df_train.shape"
   ]
  },
  {
   "cell_type": "code",
   "execution_count": null,
   "id": "0736045d",
   "metadata": {},
   "outputs": [],
   "source": []
  },
  {
   "cell_type": "code",
   "execution_count": 14,
   "id": "ab4da529",
   "metadata": {},
   "outputs": [
    {
     "data": {
      "text/html": [
       "<div>\n",
       "<style scoped>\n",
       "    .dataframe tbody tr th:only-of-type {\n",
       "        vertical-align: middle;\n",
       "    }\n",
       "\n",
       "    .dataframe tbody tr th {\n",
       "        vertical-align: top;\n",
       "    }\n",
       "\n",
       "    .dataframe thead th {\n",
       "        text-align: right;\n",
       "    }\n",
       "</style>\n",
       "<table border=\"1\" class=\"dataframe\">\n",
       "  <thead>\n",
       "    <tr style=\"text-align: right;\">\n",
       "      <th></th>\n",
       "      <th>arpu_6</th>\n",
       "      <th>arpu_7</th>\n",
       "      <th>arpu_8</th>\n",
       "    </tr>\n",
       "  </thead>\n",
       "  <tbody>\n",
       "    <tr>\n",
       "      <th>count</th>\n",
       "      <td>69999.000000</td>\n",
       "      <td>69999.000000</td>\n",
       "      <td>69999.000000</td>\n",
       "    </tr>\n",
       "    <tr>\n",
       "      <th>mean</th>\n",
       "      <td>283.134365</td>\n",
       "      <td>278.185912</td>\n",
       "      <td>278.858826</td>\n",
       "    </tr>\n",
       "    <tr>\n",
       "      <th>std</th>\n",
       "      <td>334.213918</td>\n",
       "      <td>344.366927</td>\n",
       "      <td>351.924315</td>\n",
       "    </tr>\n",
       "    <tr>\n",
       "      <th>min</th>\n",
       "      <td>-2258.709000</td>\n",
       "      <td>-1289.715000</td>\n",
       "      <td>-945.808000</td>\n",
       "    </tr>\n",
       "    <tr>\n",
       "      <th>25%</th>\n",
       "      <td>93.581000</td>\n",
       "      <td>86.714000</td>\n",
       "      <td>84.095000</td>\n",
       "    </tr>\n",
       "    <tr>\n",
       "      <th>50%</th>\n",
       "      <td>197.484000</td>\n",
       "      <td>191.588000</td>\n",
       "      <td>192.234000</td>\n",
       "    </tr>\n",
       "    <tr>\n",
       "      <th>75%</th>\n",
       "      <td>370.791000</td>\n",
       "      <td>365.369500</td>\n",
       "      <td>369.909000</td>\n",
       "    </tr>\n",
       "    <tr>\n",
       "      <th>90%</th>\n",
       "      <td>619.993800</td>\n",
       "      <td>615.661400</td>\n",
       "      <td>614.994600</td>\n",
       "    </tr>\n",
       "    <tr>\n",
       "      <th>max</th>\n",
       "      <td>27731.088000</td>\n",
       "      <td>35145.834000</td>\n",
       "      <td>33543.624000</td>\n",
       "    </tr>\n",
       "  </tbody>\n",
       "</table>\n",
       "</div>"
      ],
      "text/plain": [
       "             arpu_6        arpu_7        arpu_8\n",
       "count  69999.000000  69999.000000  69999.000000\n",
       "mean     283.134365    278.185912    278.858826\n",
       "std      334.213918    344.366927    351.924315\n",
       "min    -2258.709000  -1289.715000   -945.808000\n",
       "25%       93.581000     86.714000     84.095000\n",
       "50%      197.484000    191.588000    192.234000\n",
       "75%      370.791000    365.369500    369.909000\n",
       "90%      619.993800    615.661400    614.994600\n",
       "max    27731.088000  35145.834000  33543.624000"
      ]
     },
     "execution_count": 14,
     "metadata": {},
     "output_type": "execute_result"
    }
   ],
   "source": [
    "# Checking for outliars in average revenue cols\n",
    "cols = df_train[[\"arpu_6\", \"arpu_7\", \"arpu_8\"]]\n",
    "cols.describe(percentiles=[.25, .5, .75, .90])"
   ]
  },
  {
   "cell_type": "markdown",
   "id": "4fcda886",
   "metadata": {},
   "source": [
    "# 2. EDA on train set"
   ]
  },
  {
   "cell_type": "code",
   "execution_count": 15,
   "id": "3e061112",
   "metadata": {},
   "outputs": [
    {
     "data": {
      "image/png": "[encoded data removed]",
      "text/plain": [
       "<Figure size 432x288 with 1 Axes>"
      ]
     },
     "metadata": {
      "needs_background": "light"
     },
     "output_type": "display_data"
    }
   ],
   "source": [
    "# Lot of outliars in revenue col\n",
    "sns.boxplot(df_train[\"arpu_6\"])\n",
    "plt.show()"
   ]
  },
  {
   "cell_type": "code",
   "execution_count": 16,
   "id": "3f083f85",
   "metadata": {},
   "outputs": [
    {
     "data": {
      "text/plain": [
       "(69986, 160)"
      ]
     },
     "execution_count": 16,
     "metadata": {},
     "output_type": "execute_result"
    }
   ],
   "source": [
    "df_train[(df_train.arpu_6 <= 5000)].shape"
   ]
  },
  {
   "cell_type": "code",
   "execution_count": 17,
   "id": "f48c836d",
   "metadata": {},
   "outputs": [
    {
     "data": {
      "text/plain": [
       "(69986, 160)"
      ]
     },
     "execution_count": 17,
     "metadata": {},
     "output_type": "execute_result"
    }
   ],
   "source": [
    "df_train = df_train[(df_train.arpu_6 <= 5000)]\n",
    "df_train.shape"
   ]
  },
  {
   "cell_type": "code",
   "execution_count": 18,
   "id": "791f2cb9",
   "metadata": {},
   "outputs": [
    {
     "data": {
      "image/png": "[encoded data removed]",
      "text/plain": [
       "<Figure size 432x288 with 1 Axes>"
      ]
     },
     "metadata": {
      "needs_background": "light"
     },
     "output_type": "display_data"
    }
   ],
   "source": [
    "sns.boxplot(df_train[\"arpu_7\"])\n",
    "plt.show()"
   ]
  },
  {
   "cell_type": "code",
   "execution_count": 19,
   "id": "70475f6b",
   "metadata": {},
   "outputs": [
    {
     "data": {
      "text/plain": [
       "(69945, 160)"
      ]
     },
     "execution_count": 19,
     "metadata": {},
     "output_type": "execute_result"
    }
   ],
   "source": [
    "df_train[(df_train.arpu_7 <= 3000)].shape"
   ]
  },
  {
   "cell_type": "code",
   "execution_count": 20,
   "id": "60768ee9",
   "metadata": {},
   "outputs": [
    {
     "data": {
      "text/plain": [
       "(69945, 160)"
      ]
     },
     "execution_count": 20,
     "metadata": {},
     "output_type": "execute_result"
    }
   ],
   "source": [
    "df_train = df_train[(df_train.arpu_7 <= 3000)]\n",
    "df_train.shape"
   ]
  },
  {
   "cell_type": "code",
   "execution_count": 21,
   "id": "5969d1f5",
   "metadata": {},
   "outputs": [
    {
     "data": {
      "image/png": "[encoded data removed]",
      "text/plain": [
       "<Figure size 432x288 with 1 Axes>"
      ]
     },
     "metadata": {
      "needs_background": "light"
     },
     "output_type": "display_data"
    }
   ],
   "source": [
    "sns.boxplot(df_train[\"arpu_8\"])\n",
    "plt.show()"
   ]
  },
  {
   "cell_type": "code",
   "execution_count": 22,
   "id": "919b93b2",
   "metadata": {},
   "outputs": [
    {
     "data": {
      "text/plain": [
       "(69914, 160)"
      ]
     },
     "execution_count": 22,
     "metadata": {},
     "output_type": "execute_result"
    }
   ],
   "source": [
    "df_train[(df_train.arpu_8 <= 3000)].shape"
   ]
  },
  {
   "cell_type": "code",
   "execution_count": 23,
   "id": "cfbea62a",
   "metadata": {},
   "outputs": [
    {
     "data": {
      "text/plain": [
       "(69914, 160)"
      ]
     },
     "execution_count": 23,
     "metadata": {},
     "output_type": "execute_result"
    }
   ],
   "source": [
    "df_train = df_train[(df_train.arpu_8 <= 3000)]\n",
    "df_train.shape"
   ]
  },
  {
   "cell_type": "code",
   "execution_count": 24,
   "id": "08999777",
   "metadata": {},
   "outputs": [
    {
     "data": {
      "text/plain": [
       "<function matplotlib.pyplot.show(close=None, block=None)>"
      ]
     },
     "execution_count": 24,
     "metadata": {},
     "output_type": "execute_result"
    },
    {
     "data": {
      "image/png": "[encoded data removed]",
      "text/plain": [
       "<Figure size 1152x1152 with 2 Axes>"
      ]
     },
     "metadata": {
      "needs_background": "light"
     },
     "output_type": "display_data"
    }
   ],
   "source": [
    "# Correlation plot\n",
    "plt.figure(figsize=(16, 16))\n",
    "sns.heatmap(df_train.corr(), cmap=\"YlGnBu\")\n",
    "plt.show"
   ]
  },
  {
   "cell_type": "code",
   "execution_count": 25,
   "id": "4ca2fbd9",
   "metadata": {},
   "outputs": [],
   "source": [
    "df_train_new = df_train.copy()"
   ]
  },
  {
   "cell_type": "code",
   "execution_count": 26,
   "id": "1d31220c",
   "metadata": {},
   "outputs": [
    {
     "data": {
      "text/html": [
       "<div>\n",
       "<style scoped>\n",
       "    .dataframe tbody tr th:only-of-type {\n",
       "        vertical-align: middle;\n",
       "    }\n",
       "\n",
       "    .dataframe tbody tr th {\n",
       "        vertical-align: top;\n",
       "    }\n",
       "\n",
       "    .dataframe thead th {\n",
       "        text-align: right;\n",
       "    }\n",
       "</style>\n",
       "<table border=\"1\" class=\"dataframe\">\n",
       "  <thead>\n",
       "    <tr style=\"text-align: right;\">\n",
       "      <th></th>\n",
       "      <th>id</th>\n",
       "      <th>circle_id</th>\n",
       "      <th>arpu_6</th>\n",
       "      <th>arpu_7</th>\n",
       "      <th>arpu_8</th>\n",
       "      <th>onnet_mou_6</th>\n",
       "      <th>onnet_mou_7</th>\n",
       "      <th>onnet_mou_8</th>\n",
       "      <th>offnet_mou_6</th>\n",
       "      <th>offnet_mou_7</th>\n",
       "      <th>...</th>\n",
       "      <th>sachet_3g_7</th>\n",
       "      <th>sachet_3g_8</th>\n",
       "      <th>fb_user_6</th>\n",
       "      <th>fb_user_7</th>\n",
       "      <th>fb_user_8</th>\n",
       "      <th>aon</th>\n",
       "      <th>aug_vbc_3g</th>\n",
       "      <th>jul_vbc_3g</th>\n",
       "      <th>jun_vbc_3g</th>\n",
       "      <th>churn_probability</th>\n",
       "    </tr>\n",
       "  </thead>\n",
       "  <tbody>\n",
       "    <tr>\n",
       "      <th>0</th>\n",
       "      <td>0</td>\n",
       "      <td>109</td>\n",
       "      <td>31.277</td>\n",
       "      <td>87.009</td>\n",
       "      <td>7.527</td>\n",
       "      <td>48.58</td>\n",
       "      <td>124.38</td>\n",
       "      <td>1.29</td>\n",
       "      <td>32.24</td>\n",
       "      <td>96.68</td>\n",
       "      <td>...</td>\n",
       "      <td>0</td>\n",
       "      <td>0</td>\n",
       "      <td>0.0</td>\n",
       "      <td>0.0</td>\n",
       "      <td>0.0</td>\n",
       "      <td>1958</td>\n",
       "      <td>0.0</td>\n",
       "      <td>0.0</td>\n",
       "      <td>0.0</td>\n",
       "      <td>0</td>\n",
       "    </tr>\n",
       "    <tr>\n",
       "      <th>1</th>\n",
       "      <td>1</td>\n",
       "      <td>109</td>\n",
       "      <td>0.000</td>\n",
       "      <td>122.787</td>\n",
       "      <td>42.953</td>\n",
       "      <td>0.00</td>\n",
       "      <td>0.00</td>\n",
       "      <td>0.00</td>\n",
       "      <td>0.00</td>\n",
       "      <td>25.99</td>\n",
       "      <td>...</td>\n",
       "      <td>0</td>\n",
       "      <td>0</td>\n",
       "      <td>0.0</td>\n",
       "      <td>1.0</td>\n",
       "      <td>0.0</td>\n",
       "      <td>710</td>\n",
       "      <td>0.0</td>\n",
       "      <td>0.0</td>\n",
       "      <td>0.0</td>\n",
       "      <td>0</td>\n",
       "    </tr>\n",
       "    <tr>\n",
       "      <th>2</th>\n",
       "      <td>2</td>\n",
       "      <td>109</td>\n",
       "      <td>60.806</td>\n",
       "      <td>103.176</td>\n",
       "      <td>0.000</td>\n",
       "      <td>0.53</td>\n",
       "      <td>15.93</td>\n",
       "      <td>0.00</td>\n",
       "      <td>53.99</td>\n",
       "      <td>82.05</td>\n",
       "      <td>...</td>\n",
       "      <td>0</td>\n",
       "      <td>0</td>\n",
       "      <td>0.0</td>\n",
       "      <td>0.0</td>\n",
       "      <td>0.0</td>\n",
       "      <td>882</td>\n",
       "      <td>0.0</td>\n",
       "      <td>0.0</td>\n",
       "      <td>0.0</td>\n",
       "      <td>0</td>\n",
       "    </tr>\n",
       "    <tr>\n",
       "      <th>3</th>\n",
       "      <td>3</td>\n",
       "      <td>109</td>\n",
       "      <td>156.362</td>\n",
       "      <td>205.260</td>\n",
       "      <td>111.095</td>\n",
       "      <td>7.26</td>\n",
       "      <td>16.01</td>\n",
       "      <td>0.00</td>\n",
       "      <td>68.76</td>\n",
       "      <td>78.48</td>\n",
       "      <td>...</td>\n",
       "      <td>0</td>\n",
       "      <td>0</td>\n",
       "      <td>0.0</td>\n",
       "      <td>0.0</td>\n",
       "      <td>0.0</td>\n",
       "      <td>982</td>\n",
       "      <td>0.0</td>\n",
       "      <td>0.0</td>\n",
       "      <td>0.0</td>\n",
       "      <td>0</td>\n",
       "    </tr>\n",
       "    <tr>\n",
       "      <th>4</th>\n",
       "      <td>4</td>\n",
       "      <td>109</td>\n",
       "      <td>240.708</td>\n",
       "      <td>128.191</td>\n",
       "      <td>101.565</td>\n",
       "      <td>21.28</td>\n",
       "      <td>4.83</td>\n",
       "      <td>6.13</td>\n",
       "      <td>56.99</td>\n",
       "      <td>38.11</td>\n",
       "      <td>...</td>\n",
       "      <td>1</td>\n",
       "      <td>0</td>\n",
       "      <td>1.0</td>\n",
       "      <td>1.0</td>\n",
       "      <td>1.0</td>\n",
       "      <td>647</td>\n",
       "      <td>0.0</td>\n",
       "      <td>0.0</td>\n",
       "      <td>0.0</td>\n",
       "      <td>0</td>\n",
       "    </tr>\n",
       "  </tbody>\n",
       "</table>\n",
       "<p>5 rows × 160 columns</p>\n",
       "</div>"
      ],
      "text/plain": [
       "   id  circle_id   arpu_6   arpu_7   arpu_8  onnet_mou_6  onnet_mou_7  \\\n",
       "0   0        109   31.277   87.009    7.527        48.58       124.38   \n",
       "1   1        109    0.000  122.787   42.953         0.00         0.00   \n",
       "2   2        109   60.806  103.176    0.000         0.53        15.93   \n",
       "3   3        109  156.362  205.260  111.095         7.26        16.01   \n",
       "4   4        109  240.708  128.191  101.565        21.28         4.83   \n",
       "\n",
       "   onnet_mou_8  offnet_mou_6  offnet_mou_7  ...  sachet_3g_7  sachet_3g_8  \\\n",
       "0         1.29         32.24         96.68  ...            0            0   \n",
       "1         0.00          0.00         25.99  ...            0            0   \n",
       "2         0.00         53.99         82.05  ...            0            0   \n",
       "3         0.00         68.76         78.48  ...            0            0   \n",
       "4         6.13         56.99         38.11  ...            1            0   \n",
       "\n",
       "   fb_user_6  fb_user_7  fb_user_8   aon  aug_vbc_3g  jul_vbc_3g  jun_vbc_3g  \\\n",
       "0        0.0        0.0        0.0  1958         0.0         0.0         0.0   \n",
       "1        0.0        1.0        0.0   710         0.0         0.0         0.0   \n",
       "2        0.0        0.0        0.0   882         0.0         0.0         0.0   \n",
       "3        0.0        0.0        0.0   982         0.0         0.0         0.0   \n",
       "4        1.0        1.0        1.0   647         0.0         0.0         0.0   \n",
       "\n",
       "   churn_probability  \n",
       "0                  0  \n",
       "1                  0  \n",
       "2                  0  \n",
       "3                  0  \n",
       "4                  0  \n",
       "\n",
       "[5 rows x 160 columns]"
      ]
     },
     "execution_count": 26,
     "metadata": {},
     "output_type": "execute_result"
    }
   ],
   "source": [
    "# *6, *7, *8 - KPI for the month of June, July, August. If date exists, that means customer did recharge that month. \n",
    "# Converting these cols to 1/0\n",
    "df_train[\"date_of_last_rech_6\"] = df_train[\"date_of_last_rech_6\"].apply(lambda x: 1 if x!=0 else x)\n",
    "df_train[\"date_of_last_rech_7\"] = df_train[\"date_of_last_rech_7\"].apply(lambda x: 1 if x!=0 else x)\n",
    "df_train[\"date_of_last_rech_8\"] = df_train[\"date_of_last_rech_8\"].apply(lambda x: 1 if x!=0 else x)\n",
    "df_train[\"date_of_last_rech_data_6\"] = df_train[\"date_of_last_rech_data_6\"].apply(lambda x: 1 if x!=0 else x)\n",
    "df_train[\"date_of_last_rech_data_7\"] = df_train[\"date_of_last_rech_data_7\"].apply(lambda x: 1 if x!=0 else x)\n",
    "df_train[\"date_of_last_rech_data_8\"] = df_train[\"date_of_last_rech_data_8\"].apply(lambda x: 1 if x!=0 else x)\n",
    "df_train.head()"
   ]
  },
  {
   "cell_type": "markdown",
   "id": "a6d0c5a6",
   "metadata": {},
   "source": [
    "# 3. Scale features for training set"
   ]
  },
  {
   "cell_type": "code",
   "execution_count": 27,
   "id": "1ab7e861",
   "metadata": {},
   "outputs": [
    {
     "data": {
      "text/html": [
       "<div>\n",
       "<style scoped>\n",
       "    .dataframe tbody tr th:only-of-type {\n",
       "        vertical-align: middle;\n",
       "    }\n",
       "\n",
       "    .dataframe tbody tr th {\n",
       "        vertical-align: top;\n",
       "    }\n",
       "\n",
       "    .dataframe thead th {\n",
       "        text-align: right;\n",
       "    }\n",
       "</style>\n",
       "<table border=\"1\" class=\"dataframe\">\n",
       "  <thead>\n",
       "    <tr style=\"text-align: right;\">\n",
       "      <th></th>\n",
       "      <th>circle_id</th>\n",
       "      <th>arpu_6</th>\n",
       "      <th>arpu_7</th>\n",
       "      <th>arpu_8</th>\n",
       "      <th>onnet_mou_6</th>\n",
       "      <th>onnet_mou_7</th>\n",
       "      <th>onnet_mou_8</th>\n",
       "      <th>offnet_mou_6</th>\n",
       "      <th>offnet_mou_7</th>\n",
       "      <th>offnet_mou_8</th>\n",
       "      <th>...</th>\n",
       "      <th>sachet_3g_6</th>\n",
       "      <th>sachet_3g_7</th>\n",
       "      <th>sachet_3g_8</th>\n",
       "      <th>fb_user_6</th>\n",
       "      <th>fb_user_7</th>\n",
       "      <th>fb_user_8</th>\n",
       "      <th>aon</th>\n",
       "      <th>aug_vbc_3g</th>\n",
       "      <th>jul_vbc_3g</th>\n",
       "      <th>jun_vbc_3g</th>\n",
       "    </tr>\n",
       "  </thead>\n",
       "  <tbody>\n",
       "    <tr>\n",
       "      <th>0</th>\n",
       "      <td>109</td>\n",
       "      <td>31.277</td>\n",
       "      <td>87.009</td>\n",
       "      <td>7.527</td>\n",
       "      <td>48.58</td>\n",
       "      <td>124.38</td>\n",
       "      <td>1.29</td>\n",
       "      <td>32.24</td>\n",
       "      <td>96.68</td>\n",
       "      <td>2.33</td>\n",
       "      <td>...</td>\n",
       "      <td>0</td>\n",
       "      <td>0</td>\n",
       "      <td>0</td>\n",
       "      <td>0.0</td>\n",
       "      <td>0.0</td>\n",
       "      <td>0.0</td>\n",
       "      <td>1958</td>\n",
       "      <td>0.0</td>\n",
       "      <td>0.0</td>\n",
       "      <td>0.0</td>\n",
       "    </tr>\n",
       "    <tr>\n",
       "      <th>1</th>\n",
       "      <td>109</td>\n",
       "      <td>0.000</td>\n",
       "      <td>122.787</td>\n",
       "      <td>42.953</td>\n",
       "      <td>0.00</td>\n",
       "      <td>0.00</td>\n",
       "      <td>0.00</td>\n",
       "      <td>0.00</td>\n",
       "      <td>25.99</td>\n",
       "      <td>30.89</td>\n",
       "      <td>...</td>\n",
       "      <td>0</td>\n",
       "      <td>0</td>\n",
       "      <td>0</td>\n",
       "      <td>0.0</td>\n",
       "      <td>1.0</td>\n",
       "      <td>0.0</td>\n",
       "      <td>710</td>\n",
       "      <td>0.0</td>\n",
       "      <td>0.0</td>\n",
       "      <td>0.0</td>\n",
       "    </tr>\n",
       "    <tr>\n",
       "      <th>2</th>\n",
       "      <td>109</td>\n",
       "      <td>60.806</td>\n",
       "      <td>103.176</td>\n",
       "      <td>0.000</td>\n",
       "      <td>0.53</td>\n",
       "      <td>15.93</td>\n",
       "      <td>0.00</td>\n",
       "      <td>53.99</td>\n",
       "      <td>82.05</td>\n",
       "      <td>0.00</td>\n",
       "      <td>...</td>\n",
       "      <td>0</td>\n",
       "      <td>0</td>\n",
       "      <td>0</td>\n",
       "      <td>0.0</td>\n",
       "      <td>0.0</td>\n",
       "      <td>0.0</td>\n",
       "      <td>882</td>\n",
       "      <td>0.0</td>\n",
       "      <td>0.0</td>\n",
       "      <td>0.0</td>\n",
       "    </tr>\n",
       "    <tr>\n",
       "      <th>3</th>\n",
       "      <td>109</td>\n",
       "      <td>156.362</td>\n",
       "      <td>205.260</td>\n",
       "      <td>111.095</td>\n",
       "      <td>7.26</td>\n",
       "      <td>16.01</td>\n",
       "      <td>0.00</td>\n",
       "      <td>68.76</td>\n",
       "      <td>78.48</td>\n",
       "      <td>50.23</td>\n",
       "      <td>...</td>\n",
       "      <td>0</td>\n",
       "      <td>0</td>\n",
       "      <td>0</td>\n",
       "      <td>0.0</td>\n",
       "      <td>0.0</td>\n",
       "      <td>0.0</td>\n",
       "      <td>982</td>\n",
       "      <td>0.0</td>\n",
       "      <td>0.0</td>\n",
       "      <td>0.0</td>\n",
       "    </tr>\n",
       "    <tr>\n",
       "      <th>4</th>\n",
       "      <td>109</td>\n",
       "      <td>240.708</td>\n",
       "      <td>128.191</td>\n",
       "      <td>101.565</td>\n",
       "      <td>21.28</td>\n",
       "      <td>4.83</td>\n",
       "      <td>6.13</td>\n",
       "      <td>56.99</td>\n",
       "      <td>38.11</td>\n",
       "      <td>9.63</td>\n",
       "      <td>...</td>\n",
       "      <td>0</td>\n",
       "      <td>1</td>\n",
       "      <td>0</td>\n",
       "      <td>1.0</td>\n",
       "      <td>1.0</td>\n",
       "      <td>1.0</td>\n",
       "      <td>647</td>\n",
       "      <td>0.0</td>\n",
       "      <td>0.0</td>\n",
       "      <td>0.0</td>\n",
       "    </tr>\n",
       "  </tbody>\n",
       "</table>\n",
       "<p>5 rows × 158 columns</p>\n",
       "</div>"
      ],
      "text/plain": [
       "   circle_id   arpu_6   arpu_7   arpu_8  onnet_mou_6  onnet_mou_7  \\\n",
       "0        109   31.277   87.009    7.527        48.58       124.38   \n",
       "1        109    0.000  122.787   42.953         0.00         0.00   \n",
       "2        109   60.806  103.176    0.000         0.53        15.93   \n",
       "3        109  156.362  205.260  111.095         7.26        16.01   \n",
       "4        109  240.708  128.191  101.565        21.28         4.83   \n",
       "\n",
       "   onnet_mou_8  offnet_mou_6  offnet_mou_7  offnet_mou_8  ...  sachet_3g_6  \\\n",
       "0         1.29         32.24         96.68          2.33  ...            0   \n",
       "1         0.00          0.00         25.99         30.89  ...            0   \n",
       "2         0.00         53.99         82.05          0.00  ...            0   \n",
       "3         0.00         68.76         78.48         50.23  ...            0   \n",
       "4         6.13         56.99         38.11          9.63  ...            0   \n",
       "\n",
       "   sachet_3g_7  sachet_3g_8  fb_user_6  fb_user_7  fb_user_8   aon  \\\n",
       "0            0            0        0.0        0.0        0.0  1958   \n",
       "1            0            0        0.0        1.0        0.0   710   \n",
       "2            0            0        0.0        0.0        0.0   882   \n",
       "3            0            0        0.0        0.0        0.0   982   \n",
       "4            1            0        1.0        1.0        1.0   647   \n",
       "\n",
       "   aug_vbc_3g  jul_vbc_3g  jun_vbc_3g  \n",
       "0         0.0         0.0         0.0  \n",
       "1         0.0         0.0         0.0  \n",
       "2         0.0         0.0         0.0  \n",
       "3         0.0         0.0         0.0  \n",
       "4         0.0         0.0         0.0  \n",
       "\n",
       "[5 rows x 158 columns]"
      ]
     },
     "execution_count": 27,
     "metadata": {},
     "output_type": "execute_result"
    }
   ],
   "source": [
    "X_train = df_train.drop([\"id\", \"churn_probability\"], axis=1)\n",
    "X_train.head()"
   ]
  },
  {
   "cell_type": "code",
   "execution_count": 28,
   "id": "f4cf71a4",
   "metadata": {},
   "outputs": [
    {
     "data": {
      "text/plain": [
       "0    0\n",
       "1    0\n",
       "2    0\n",
       "3    0\n",
       "4    0\n",
       "Name: churn_probability, dtype: int64"
      ]
     },
     "execution_count": 28,
     "metadata": {},
     "output_type": "execute_result"
    }
   ],
   "source": [
    "y_train = df_train[\"churn_probability\"]\n",
    "y_train.head()"
   ]
  },
  {
   "cell_type": "code",
   "execution_count": 29,
   "id": "9f195c95",
   "metadata": {},
   "outputs": [],
   "source": [
    "from sklearn.preprocessing import MinMaxScaler"
   ]
  },
  {
   "cell_type": "code",
   "execution_count": 30,
   "id": "ca2d9350",
   "metadata": {},
   "outputs": [
    {
     "data": {
      "text/html": [
       "<div>\n",
       "<style scoped>\n",
       "    .dataframe tbody tr th:only-of-type {\n",
       "        vertical-align: middle;\n",
       "    }\n",
       "\n",
       "    .dataframe tbody tr th {\n",
       "        vertical-align: top;\n",
       "    }\n",
       "\n",
       "    .dataframe thead th {\n",
       "        text-align: right;\n",
       "    }\n",
       "</style>\n",
       "<table border=\"1\" class=\"dataframe\">\n",
       "  <thead>\n",
       "    <tr style=\"text-align: right;\">\n",
       "      <th></th>\n",
       "      <th>circle_id</th>\n",
       "      <th>arpu_6</th>\n",
       "      <th>arpu_7</th>\n",
       "      <th>arpu_8</th>\n",
       "      <th>onnet_mou_6</th>\n",
       "      <th>onnet_mou_7</th>\n",
       "      <th>onnet_mou_8</th>\n",
       "      <th>offnet_mou_6</th>\n",
       "      <th>offnet_mou_7</th>\n",
       "      <th>offnet_mou_8</th>\n",
       "      <th>...</th>\n",
       "      <th>sachet_3g_6</th>\n",
       "      <th>sachet_3g_7</th>\n",
       "      <th>sachet_3g_8</th>\n",
       "      <th>fb_user_6</th>\n",
       "      <th>fb_user_7</th>\n",
       "      <th>fb_user_8</th>\n",
       "      <th>aon</th>\n",
       "      <th>aug_vbc_3g</th>\n",
       "      <th>jul_vbc_3g</th>\n",
       "      <th>jun_vbc_3g</th>\n",
       "    </tr>\n",
       "  </thead>\n",
       "  <tbody>\n",
       "    <tr>\n",
       "      <th>0</th>\n",
       "      <td>0.0</td>\n",
       "      <td>0.158607</td>\n",
       "      <td>0.321353</td>\n",
       "      <td>0.144154</td>\n",
       "      <td>0.006586</td>\n",
       "      <td>0.015247</td>\n",
       "      <td>0.00012</td>\n",
       "      <td>0.003855</td>\n",
       "      <td>0.014344</td>\n",
       "      <td>0.000328</td>\n",
       "      <td>...</td>\n",
       "      <td>0.0</td>\n",
       "      <td>0.000000</td>\n",
       "      <td>0.0</td>\n",
       "      <td>0.0</td>\n",
       "      <td>0.0</td>\n",
       "      <td>0.0</td>\n",
       "      <td>0.427712</td>\n",
       "      <td>0.0</td>\n",
       "      <td>0.0</td>\n",
       "      <td>0.0</td>\n",
       "    </tr>\n",
       "    <tr>\n",
       "      <th>1</th>\n",
       "      <td>0.0</td>\n",
       "      <td>0.152715</td>\n",
       "      <td>0.329704</td>\n",
       "      <td>0.154387</td>\n",
       "      <td>0.000000</td>\n",
       "      <td>0.000000</td>\n",
       "      <td>0.00000</td>\n",
       "      <td>0.000000</td>\n",
       "      <td>0.003856</td>\n",
       "      <td>0.004349</td>\n",
       "      <td>...</td>\n",
       "      <td>0.0</td>\n",
       "      <td>0.000000</td>\n",
       "      <td>0.0</td>\n",
       "      <td>0.0</td>\n",
       "      <td>1.0</td>\n",
       "      <td>0.0</td>\n",
       "      <td>0.127496</td>\n",
       "      <td>0.0</td>\n",
       "      <td>0.0</td>\n",
       "      <td>0.0</td>\n",
       "    </tr>\n",
       "    <tr>\n",
       "      <th>2</th>\n",
       "      <td>0.0</td>\n",
       "      <td>0.164169</td>\n",
       "      <td>0.325127</td>\n",
       "      <td>0.141980</td>\n",
       "      <td>0.000072</td>\n",
       "      <td>0.001953</td>\n",
       "      <td>0.00000</td>\n",
       "      <td>0.006456</td>\n",
       "      <td>0.012173</td>\n",
       "      <td>0.000000</td>\n",
       "      <td>...</td>\n",
       "      <td>0.0</td>\n",
       "      <td>0.000000</td>\n",
       "      <td>0.0</td>\n",
       "      <td>0.0</td>\n",
       "      <td>0.0</td>\n",
       "      <td>0.0</td>\n",
       "      <td>0.168872</td>\n",
       "      <td>0.0</td>\n",
       "      <td>0.0</td>\n",
       "      <td>0.0</td>\n",
       "    </tr>\n",
       "    <tr>\n",
       "      <th>3</th>\n",
       "      <td>0.0</td>\n",
       "      <td>0.182170</td>\n",
       "      <td>0.348955</td>\n",
       "      <td>0.174069</td>\n",
       "      <td>0.000984</td>\n",
       "      <td>0.001963</td>\n",
       "      <td>0.00000</td>\n",
       "      <td>0.008223</td>\n",
       "      <td>0.011644</td>\n",
       "      <td>0.007072</td>\n",
       "      <td>...</td>\n",
       "      <td>0.0</td>\n",
       "      <td>0.000000</td>\n",
       "      <td>0.0</td>\n",
       "      <td>0.0</td>\n",
       "      <td>0.0</td>\n",
       "      <td>0.0</td>\n",
       "      <td>0.192928</td>\n",
       "      <td>0.0</td>\n",
       "      <td>0.0</td>\n",
       "      <td>0.0</td>\n",
       "    </tr>\n",
       "    <tr>\n",
       "      <th>4</th>\n",
       "      <td>0.0</td>\n",
       "      <td>0.198060</td>\n",
       "      <td>0.330966</td>\n",
       "      <td>0.171316</td>\n",
       "      <td>0.002885</td>\n",
       "      <td>0.000592</td>\n",
       "      <td>0.00057</td>\n",
       "      <td>0.006815</td>\n",
       "      <td>0.005654</td>\n",
       "      <td>0.001356</td>\n",
       "      <td>...</td>\n",
       "      <td>0.0</td>\n",
       "      <td>0.030303</td>\n",
       "      <td>0.0</td>\n",
       "      <td>1.0</td>\n",
       "      <td>1.0</td>\n",
       "      <td>1.0</td>\n",
       "      <td>0.112341</td>\n",
       "      <td>0.0</td>\n",
       "      <td>0.0</td>\n",
       "      <td>0.0</td>\n",
       "    </tr>\n",
       "  </tbody>\n",
       "</table>\n",
       "<p>5 rows × 158 columns</p>\n",
       "</div>"
      ],
      "text/plain": [
       "   circle_id    arpu_6    arpu_7    arpu_8  onnet_mou_6  onnet_mou_7  \\\n",
       "0        0.0  0.158607  0.321353  0.144154     0.006586     0.015247   \n",
       "1        0.0  0.152715  0.329704  0.154387     0.000000     0.000000   \n",
       "2        0.0  0.164169  0.325127  0.141980     0.000072     0.001953   \n",
       "3        0.0  0.182170  0.348955  0.174069     0.000984     0.001963   \n",
       "4        0.0  0.198060  0.330966  0.171316     0.002885     0.000592   \n",
       "\n",
       "   onnet_mou_8  offnet_mou_6  offnet_mou_7  offnet_mou_8  ...  sachet_3g_6  \\\n",
       "0      0.00012      0.003855      0.014344      0.000328  ...          0.0   \n",
       "1      0.00000      0.000000      0.003856      0.004349  ...          0.0   \n",
       "2      0.00000      0.006456      0.012173      0.000000  ...          0.0   \n",
       "3      0.00000      0.008223      0.011644      0.007072  ...          0.0   \n",
       "4      0.00057      0.006815      0.005654      0.001356  ...          0.0   \n",
       "\n",
       "   sachet_3g_7  sachet_3g_8  fb_user_6  fb_user_7  fb_user_8       aon  \\\n",
       "0     0.000000          0.0        0.0        0.0        0.0  0.427712   \n",
       "1     0.000000          0.0        0.0        1.0        0.0  0.127496   \n",
       "2     0.000000          0.0        0.0        0.0        0.0  0.168872   \n",
       "3     0.000000          0.0        0.0        0.0        0.0  0.192928   \n",
       "4     0.030303          0.0        1.0        1.0        1.0  0.112341   \n",
       "\n",
       "   aug_vbc_3g  jul_vbc_3g  jun_vbc_3g  \n",
       "0         0.0         0.0         0.0  \n",
       "1         0.0         0.0         0.0  \n",
       "2         0.0         0.0         0.0  \n",
       "3         0.0         0.0         0.0  \n",
       "4         0.0         0.0         0.0  \n",
       "\n",
       "[5 rows x 158 columns]"
      ]
     },
     "execution_count": 30,
     "metadata": {},
     "output_type": "execute_result"
    }
   ],
   "source": [
    "scaler = MinMaxScaler()\n",
    "\n",
    "cols = X_train.columns\n",
    "X_train= pd.DataFrame(scaler.fit_transform(X_train), columns=cols)\n",
    " \n",
    "X_train.head()"
   ]
  },
  {
   "cell_type": "markdown",
   "id": "921a12fc",
   "metadata": {},
   "source": [
    "# 4. PCA for dimensionality reduction"
   ]
  },
  {
   "cell_type": "code",
   "execution_count": 31,
   "id": "f72b0ff2",
   "metadata": {},
   "outputs": [],
   "source": [
    "from sklearn.decomposition import PCA"
   ]
  },
  {
   "cell_type": "code",
   "execution_count": 32,
   "id": "72fcb9ce",
   "metadata": {},
   "outputs": [],
   "source": [
    "pca = PCA(random_state=42, n_components=50)"
   ]
  },
  {
   "cell_type": "code",
   "execution_count": 33,
   "id": "69ab7d41",
   "metadata": {},
   "outputs": [
    {
     "data": {
      "text/plain": [
       "(69914, 50)"
      ]
     },
     "execution_count": 33,
     "metadata": {},
     "output_type": "execute_result"
    }
   ],
   "source": [
    "# Using PCA to reduce to 50 predictors from original 158\n",
    "X_train_pca = pca.fit_transform(X_train)\n",
    "X_train_pca.shape"
   ]
  },
  {
   "cell_type": "markdown",
   "id": "897ef048",
   "metadata": {},
   "source": [
    "# 5. Random Forest"
   ]
  },
  {
   "cell_type": "code",
   "execution_count": 34,
   "id": "c57132b2",
   "metadata": {},
   "outputs": [],
   "source": [
    "from sklearn.ensemble import RandomForestClassifier as RF"
   ]
  },
  {
   "cell_type": "code",
   "execution_count": 35,
   "id": "3c5358aa",
   "metadata": {},
   "outputs": [],
   "source": [
    "rf_Classifier = RF(n_estimators=300)"
   ]
  },
  {
   "cell_type": "code",
   "execution_count": 36,
   "id": "a7f49200",
   "metadata": {},
   "outputs": [
    {
     "data": {
      "text/plain": [
       "RandomForestClassifier(n_estimators=300)"
      ]
     },
     "execution_count": 36,
     "metadata": {},
     "output_type": "execute_result"
    }
   ],
   "source": [
    "# Train Random Forest classifier model with training set\n",
    "rf_Classifier.fit(X_train_pca, y_train)"
   ]
  },
  {
   "cell_type": "markdown",
   "id": "1f36a9d6",
   "metadata": {},
   "source": [
    "# 6. Clean and Scale test data"
   ]
  },
  {
   "cell_type": "code",
   "execution_count": 37,
   "id": "013022e0",
   "metadata": {},
   "outputs": [
    {
     "data": {
      "text/html": [
       "<div>\n",
       "<style scoped>\n",
       "    .dataframe tbody tr th:only-of-type {\n",
       "        vertical-align: middle;\n",
       "    }\n",
       "\n",
       "    .dataframe tbody tr th {\n",
       "        vertical-align: top;\n",
       "    }\n",
       "\n",
       "    .dataframe thead th {\n",
       "        text-align: right;\n",
       "    }\n",
       "</style>\n",
       "<table border=\"1\" class=\"dataframe\">\n",
       "  <thead>\n",
       "    <tr style=\"text-align: right;\">\n",
       "      <th></th>\n",
       "      <th>id</th>\n",
       "      <th>circle_id</th>\n",
       "      <th>loc_og_t2o_mou</th>\n",
       "      <th>std_og_t2o_mou</th>\n",
       "      <th>loc_ic_t2o_mou</th>\n",
       "      <th>last_date_of_month_6</th>\n",
       "      <th>last_date_of_month_7</th>\n",
       "      <th>last_date_of_month_8</th>\n",
       "      <th>arpu_6</th>\n",
       "      <th>arpu_7</th>\n",
       "      <th>...</th>\n",
       "      <th>sachet_3g_6</th>\n",
       "      <th>sachet_3g_7</th>\n",
       "      <th>sachet_3g_8</th>\n",
       "      <th>fb_user_6</th>\n",
       "      <th>fb_user_7</th>\n",
       "      <th>fb_user_8</th>\n",
       "      <th>aon</th>\n",
       "      <th>aug_vbc_3g</th>\n",
       "      <th>jul_vbc_3g</th>\n",
       "      <th>jun_vbc_3g</th>\n",
       "    </tr>\n",
       "  </thead>\n",
       "  <tbody>\n",
       "    <tr>\n",
       "      <th>0</th>\n",
       "      <td>69999</td>\n",
       "      <td>109</td>\n",
       "      <td>0.0</td>\n",
       "      <td>0.0</td>\n",
       "      <td>0.0</td>\n",
       "      <td>6/30/2014</td>\n",
       "      <td>7/31/2014</td>\n",
       "      <td>8/31/2014</td>\n",
       "      <td>91.882</td>\n",
       "      <td>65.330</td>\n",
       "      <td>...</td>\n",
       "      <td>0</td>\n",
       "      <td>0</td>\n",
       "      <td>0</td>\n",
       "      <td>NaN</td>\n",
       "      <td>NaN</td>\n",
       "      <td>NaN</td>\n",
       "      <td>1692</td>\n",
       "      <td>0.00</td>\n",
       "      <td>0.00</td>\n",
       "      <td>0.00</td>\n",
       "    </tr>\n",
       "    <tr>\n",
       "      <th>1</th>\n",
       "      <td>70000</td>\n",
       "      <td>109</td>\n",
       "      <td>0.0</td>\n",
       "      <td>0.0</td>\n",
       "      <td>0.0</td>\n",
       "      <td>6/30/2014</td>\n",
       "      <td>7/31/2014</td>\n",
       "      <td>8/31/2014</td>\n",
       "      <td>414.168</td>\n",
       "      <td>515.568</td>\n",
       "      <td>...</td>\n",
       "      <td>0</td>\n",
       "      <td>0</td>\n",
       "      <td>0</td>\n",
       "      <td>NaN</td>\n",
       "      <td>NaN</td>\n",
       "      <td>NaN</td>\n",
       "      <td>2533</td>\n",
       "      <td>0.00</td>\n",
       "      <td>0.00</td>\n",
       "      <td>0.00</td>\n",
       "    </tr>\n",
       "    <tr>\n",
       "      <th>2</th>\n",
       "      <td>70001</td>\n",
       "      <td>109</td>\n",
       "      <td>0.0</td>\n",
       "      <td>0.0</td>\n",
       "      <td>0.0</td>\n",
       "      <td>6/30/2014</td>\n",
       "      <td>7/31/2014</td>\n",
       "      <td>8/31/2014</td>\n",
       "      <td>329.844</td>\n",
       "      <td>434.884</td>\n",
       "      <td>...</td>\n",
       "      <td>0</td>\n",
       "      <td>0</td>\n",
       "      <td>0</td>\n",
       "      <td>NaN</td>\n",
       "      <td>NaN</td>\n",
       "      <td>NaN</td>\n",
       "      <td>277</td>\n",
       "      <td>525.61</td>\n",
       "      <td>758.41</td>\n",
       "      <td>241.84</td>\n",
       "    </tr>\n",
       "    <tr>\n",
       "      <th>3</th>\n",
       "      <td>70002</td>\n",
       "      <td>109</td>\n",
       "      <td>0.0</td>\n",
       "      <td>0.0</td>\n",
       "      <td>0.0</td>\n",
       "      <td>6/30/2014</td>\n",
       "      <td>7/31/2014</td>\n",
       "      <td>8/31/2014</td>\n",
       "      <td>43.550</td>\n",
       "      <td>171.390</td>\n",
       "      <td>...</td>\n",
       "      <td>0</td>\n",
       "      <td>0</td>\n",
       "      <td>0</td>\n",
       "      <td>NaN</td>\n",
       "      <td>NaN</td>\n",
       "      <td>NaN</td>\n",
       "      <td>1244</td>\n",
       "      <td>0.00</td>\n",
       "      <td>0.00</td>\n",
       "      <td>0.00</td>\n",
       "    </tr>\n",
       "    <tr>\n",
       "      <th>4</th>\n",
       "      <td>70003</td>\n",
       "      <td>109</td>\n",
       "      <td>0.0</td>\n",
       "      <td>0.0</td>\n",
       "      <td>0.0</td>\n",
       "      <td>6/30/2014</td>\n",
       "      <td>7/31/2014</td>\n",
       "      <td>8/31/2014</td>\n",
       "      <td>306.854</td>\n",
       "      <td>406.289</td>\n",
       "      <td>...</td>\n",
       "      <td>0</td>\n",
       "      <td>0</td>\n",
       "      <td>0</td>\n",
       "      <td>NaN</td>\n",
       "      <td>NaN</td>\n",
       "      <td>NaN</td>\n",
       "      <td>462</td>\n",
       "      <td>0.00</td>\n",
       "      <td>0.00</td>\n",
       "      <td>0.00</td>\n",
       "    </tr>\n",
       "  </tbody>\n",
       "</table>\n",
       "<p>5 rows × 171 columns</p>\n",
       "</div>"
      ],
      "text/plain": [
       "      id  circle_id  loc_og_t2o_mou  std_og_t2o_mou  loc_ic_t2o_mou  \\\n",
       "0  69999        109             0.0             0.0             0.0   \n",
       "1  70000        109             0.0             0.0             0.0   \n",
       "2  70001        109             0.0             0.0             0.0   \n",
       "3  70002        109             0.0             0.0             0.0   \n",
       "4  70003        109             0.0             0.0             0.0   \n",
       "\n",
       "  last_date_of_month_6 last_date_of_month_7 last_date_of_month_8   arpu_6  \\\n",
       "0            6/30/2014            7/31/2014            8/31/2014   91.882   \n",
       "1            6/30/2014            7/31/2014            8/31/2014  414.168   \n",
       "2            6/30/2014            7/31/2014            8/31/2014  329.844   \n",
       "3            6/30/2014            7/31/2014            8/31/2014   43.550   \n",
       "4            6/30/2014            7/31/2014            8/31/2014  306.854   \n",
       "\n",
       "    arpu_7  ...  sachet_3g_6  sachet_3g_7  sachet_3g_8  fb_user_6  fb_user_7  \\\n",
       "0   65.330  ...            0            0            0        NaN        NaN   \n",
       "1  515.568  ...            0            0            0        NaN        NaN   \n",
       "2  434.884  ...            0            0            0        NaN        NaN   \n",
       "3  171.390  ...            0            0            0        NaN        NaN   \n",
       "4  406.289  ...            0            0            0        NaN        NaN   \n",
       "\n",
       "   fb_user_8   aon  aug_vbc_3g  jul_vbc_3g  jun_vbc_3g  \n",
       "0        NaN  1692        0.00        0.00        0.00  \n",
       "1        NaN  2533        0.00        0.00        0.00  \n",
       "2        NaN   277      525.61      758.41      241.84  \n",
       "3        NaN  1244        0.00        0.00        0.00  \n",
       "4        NaN   462        0.00        0.00        0.00  \n",
       "\n",
       "[5 rows x 171 columns]"
      ]
     },
     "execution_count": 37,
     "metadata": {},
     "output_type": "execute_result"
    }
   ],
   "source": [
    "df_test = pd.read_csv(\"test (1).csv\")\n",
    "df_test.head()"
   ]
  },
  {
   "cell_type": "code",
   "execution_count": 38,
   "id": "93386e39",
   "metadata": {},
   "outputs": [
    {
     "data": {
      "text/plain": [
       "(30000, 171)"
      ]
     },
     "execution_count": 38,
     "metadata": {},
     "output_type": "execute_result"
    }
   ],
   "source": [
    "df_test.shape"
   ]
  },
  {
   "cell_type": "code",
   "execution_count": 39,
   "id": "cb32ea8c",
   "metadata": {},
   "outputs": [],
   "source": [
    "# Perform all the data cleaning steps done on training set\n",
    "df_test.fillna(value=0, inplace=True)"
   ]
  },
  {
   "cell_type": "code",
   "execution_count": 40,
   "id": "cce26a17",
   "metadata": {},
   "outputs": [
    {
     "data": {
      "text/html": [
       "<div>\n",
       "<style scoped>\n",
       "    .dataframe tbody tr th:only-of-type {\n",
       "        vertical-align: middle;\n",
       "    }\n",
       "\n",
       "    .dataframe tbody tr th {\n",
       "        vertical-align: top;\n",
       "    }\n",
       "\n",
       "    .dataframe thead th {\n",
       "        text-align: right;\n",
       "    }\n",
       "</style>\n",
       "<table border=\"1\" class=\"dataframe\">\n",
       "  <thead>\n",
       "    <tr style=\"text-align: right;\">\n",
       "      <th></th>\n",
       "      <th>id</th>\n",
       "      <th>circle_id</th>\n",
       "      <th>last_date_of_month_6</th>\n",
       "      <th>last_date_of_month_7</th>\n",
       "      <th>last_date_of_month_8</th>\n",
       "      <th>arpu_6</th>\n",
       "      <th>arpu_7</th>\n",
       "      <th>arpu_8</th>\n",
       "      <th>onnet_mou_6</th>\n",
       "      <th>onnet_mou_7</th>\n",
       "      <th>...</th>\n",
       "      <th>sachet_3g_6</th>\n",
       "      <th>sachet_3g_7</th>\n",
       "      <th>sachet_3g_8</th>\n",
       "      <th>fb_user_6</th>\n",
       "      <th>fb_user_7</th>\n",
       "      <th>fb_user_8</th>\n",
       "      <th>aon</th>\n",
       "      <th>aug_vbc_3g</th>\n",
       "      <th>jul_vbc_3g</th>\n",
       "      <th>jun_vbc_3g</th>\n",
       "    </tr>\n",
       "  </thead>\n",
       "  <tbody>\n",
       "    <tr>\n",
       "      <th>0</th>\n",
       "      <td>69999</td>\n",
       "      <td>109</td>\n",
       "      <td>6/30/2014</td>\n",
       "      <td>7/31/2014</td>\n",
       "      <td>8/31/2014</td>\n",
       "      <td>91.882</td>\n",
       "      <td>65.330</td>\n",
       "      <td>64.445</td>\n",
       "      <td>31.78</td>\n",
       "      <td>20.23</td>\n",
       "      <td>...</td>\n",
       "      <td>0</td>\n",
       "      <td>0</td>\n",
       "      <td>0</td>\n",
       "      <td>0.0</td>\n",
       "      <td>0.0</td>\n",
       "      <td>0.0</td>\n",
       "      <td>1692</td>\n",
       "      <td>0.00</td>\n",
       "      <td>0.00</td>\n",
       "      <td>0.00</td>\n",
       "    </tr>\n",
       "    <tr>\n",
       "      <th>1</th>\n",
       "      <td>70000</td>\n",
       "      <td>109</td>\n",
       "      <td>6/30/2014</td>\n",
       "      <td>7/31/2014</td>\n",
       "      <td>8/31/2014</td>\n",
       "      <td>414.168</td>\n",
       "      <td>515.568</td>\n",
       "      <td>360.868</td>\n",
       "      <td>75.51</td>\n",
       "      <td>41.21</td>\n",
       "      <td>...</td>\n",
       "      <td>0</td>\n",
       "      <td>0</td>\n",
       "      <td>0</td>\n",
       "      <td>0.0</td>\n",
       "      <td>0.0</td>\n",
       "      <td>0.0</td>\n",
       "      <td>2533</td>\n",
       "      <td>0.00</td>\n",
       "      <td>0.00</td>\n",
       "      <td>0.00</td>\n",
       "    </tr>\n",
       "    <tr>\n",
       "      <th>2</th>\n",
       "      <td>70001</td>\n",
       "      <td>109</td>\n",
       "      <td>6/30/2014</td>\n",
       "      <td>7/31/2014</td>\n",
       "      <td>8/31/2014</td>\n",
       "      <td>329.844</td>\n",
       "      <td>434.884</td>\n",
       "      <td>746.239</td>\n",
       "      <td>7.54</td>\n",
       "      <td>7.86</td>\n",
       "      <td>...</td>\n",
       "      <td>0</td>\n",
       "      <td>0</td>\n",
       "      <td>0</td>\n",
       "      <td>0.0</td>\n",
       "      <td>0.0</td>\n",
       "      <td>0.0</td>\n",
       "      <td>277</td>\n",
       "      <td>525.61</td>\n",
       "      <td>758.41</td>\n",
       "      <td>241.84</td>\n",
       "    </tr>\n",
       "    <tr>\n",
       "      <th>3</th>\n",
       "      <td>70002</td>\n",
       "      <td>109</td>\n",
       "      <td>6/30/2014</td>\n",
       "      <td>7/31/2014</td>\n",
       "      <td>8/31/2014</td>\n",
       "      <td>43.550</td>\n",
       "      <td>171.390</td>\n",
       "      <td>24.400</td>\n",
       "      <td>5.31</td>\n",
       "      <td>2.16</td>\n",
       "      <td>...</td>\n",
       "      <td>0</td>\n",
       "      <td>0</td>\n",
       "      <td>0</td>\n",
       "      <td>0.0</td>\n",
       "      <td>0.0</td>\n",
       "      <td>0.0</td>\n",
       "      <td>1244</td>\n",
       "      <td>0.00</td>\n",
       "      <td>0.00</td>\n",
       "      <td>0.00</td>\n",
       "    </tr>\n",
       "    <tr>\n",
       "      <th>4</th>\n",
       "      <td>70003</td>\n",
       "      <td>109</td>\n",
       "      <td>6/30/2014</td>\n",
       "      <td>7/31/2014</td>\n",
       "      <td>8/31/2014</td>\n",
       "      <td>306.854</td>\n",
       "      <td>406.289</td>\n",
       "      <td>413.329</td>\n",
       "      <td>450.93</td>\n",
       "      <td>609.03</td>\n",
       "      <td>...</td>\n",
       "      <td>0</td>\n",
       "      <td>0</td>\n",
       "      <td>0</td>\n",
       "      <td>0.0</td>\n",
       "      <td>0.0</td>\n",
       "      <td>0.0</td>\n",
       "      <td>462</td>\n",
       "      <td>0.00</td>\n",
       "      <td>0.00</td>\n",
       "      <td>0.00</td>\n",
       "    </tr>\n",
       "  </tbody>\n",
       "</table>\n",
       "<p>5 rows × 162 columns</p>\n",
       "</div>"
      ],
      "text/plain": [
       "      id  circle_id last_date_of_month_6 last_date_of_month_7  \\\n",
       "0  69999        109            6/30/2014            7/31/2014   \n",
       "1  70000        109            6/30/2014            7/31/2014   \n",
       "2  70001        109            6/30/2014            7/31/2014   \n",
       "3  70002        109            6/30/2014            7/31/2014   \n",
       "4  70003        109            6/30/2014            7/31/2014   \n",
       "\n",
       "  last_date_of_month_8   arpu_6   arpu_7   arpu_8  onnet_mou_6  onnet_mou_7  \\\n",
       "0            8/31/2014   91.882   65.330   64.445        31.78        20.23   \n",
       "1            8/31/2014  414.168  515.568  360.868        75.51        41.21   \n",
       "2            8/31/2014  329.844  434.884  746.239         7.54         7.86   \n",
       "3            8/31/2014   43.550  171.390   24.400         5.31         2.16   \n",
       "4            8/31/2014  306.854  406.289  413.329       450.93       609.03   \n",
       "\n",
       "   ...  sachet_3g_6  sachet_3g_7  sachet_3g_8  fb_user_6  fb_user_7  \\\n",
       "0  ...            0            0            0        0.0        0.0   \n",
       "1  ...            0            0            0        0.0        0.0   \n",
       "2  ...            0            0            0        0.0        0.0   \n",
       "3  ...            0            0            0        0.0        0.0   \n",
       "4  ...            0            0            0        0.0        0.0   \n",
       "\n",
       "   fb_user_8   aon  aug_vbc_3g  jul_vbc_3g  jun_vbc_3g  \n",
       "0        0.0  1692        0.00        0.00        0.00  \n",
       "1        0.0  2533        0.00        0.00        0.00  \n",
       "2        0.0   277      525.61      758.41      241.84  \n",
       "3        0.0  1244        0.00        0.00        0.00  \n",
       "4        0.0   462        0.00        0.00        0.00  \n",
       "\n",
       "[5 rows x 162 columns]"
      ]
     },
     "execution_count": 40,
     "metadata": {},
     "output_type": "execute_result"
    }
   ],
   "source": [
    "df_test = df_test.loc[:, (df_test != 0).any(axis=0)]\n",
    "df_test.head()"
   ]
  },
  {
   "cell_type": "code",
   "execution_count": 41,
   "id": "8f1f1e1d",
   "metadata": {},
   "outputs": [
    {
     "data": {
      "text/plain": [
       "array([], shape=(0, 162), dtype=object)"
      ]
     },
     "execution_count": 41,
     "metadata": {},
     "output_type": "execute_result"
    }
   ],
   "source": [
    "df_test.columns[(df_test.duplicated() == True).all()]"
   ]
  },
  {
   "cell_type": "code",
   "execution_count": 42,
   "id": "8451f85d",
   "metadata": {},
   "outputs": [],
   "source": [
    "df_test.drop([\"last_date_of_month_6\", \"last_date_of_month_7\", \"last_date_of_month_8\"], axis=1, inplace=True)"
   ]
  },
  {
   "cell_type": "code",
   "execution_count": 43,
   "id": "42adfb17",
   "metadata": {},
   "outputs": [
    {
     "data": {
      "text/plain": [
       "(30000, 159)"
      ]
     },
     "execution_count": 43,
     "metadata": {},
     "output_type": "execute_result"
    }
   ],
   "source": [
    "df_test.shape"
   ]
  },
  {
   "cell_type": "code",
   "execution_count": 44,
   "id": "31c87f45",
   "metadata": {},
   "outputs": [],
   "source": [
    "df_test_new = df_test.copy()"
   ]
  },
  {
   "cell_type": "code",
   "execution_count": 45,
   "id": "80999796",
   "metadata": {},
   "outputs": [],
   "source": [
    "df_test[\"date_of_last_rech_6\"] = df_test[\"date_of_last_rech_6\"].apply(lambda x: 1 if x!=0 else x)\n",
    "df_test[\"date_of_last_rech_7\"] = df_test[\"date_of_last_rech_7\"].apply(lambda x: 1 if x!=0 else x)\n",
    "df_test[\"date_of_last_rech_8\"] = df_test[\"date_of_last_rech_8\"].apply(lambda x: 1 if x!=0 else x)\n",
    "df_test[\"date_of_last_rech_data_6\"] = df_test[\"date_of_last_rech_data_6\"].apply(lambda x: 1 if x!=0 else x)\n",
    "df_test[\"date_of_last_rech_data_7\"] = df_test[\"date_of_last_rech_data_7\"].apply(lambda x: 1 if x!=0 else x)\n",
    "df_test[\"date_of_last_rech_data_8\"] = df_test[\"date_of_last_rech_data_8\"].apply(lambda x: 1 if x!=0 else x)"
   ]
  },
  {
   "cell_type": "code",
   "execution_count": 46,
   "id": "2ea05017",
   "metadata": {},
   "outputs": [
    {
     "data": {
      "text/html": [
       "<div>\n",
       "<style scoped>\n",
       "    .dataframe tbody tr th:only-of-type {\n",
       "        vertical-align: middle;\n",
       "    }\n",
       "\n",
       "    .dataframe tbody tr th {\n",
       "        vertical-align: top;\n",
       "    }\n",
       "\n",
       "    .dataframe thead th {\n",
       "        text-align: right;\n",
       "    }\n",
       "</style>\n",
       "<table border=\"1\" class=\"dataframe\">\n",
       "  <thead>\n",
       "    <tr style=\"text-align: right;\">\n",
       "      <th></th>\n",
       "      <th>circle_id</th>\n",
       "      <th>arpu_6</th>\n",
       "      <th>arpu_7</th>\n",
       "      <th>arpu_8</th>\n",
       "      <th>onnet_mou_6</th>\n",
       "      <th>onnet_mou_7</th>\n",
       "      <th>onnet_mou_8</th>\n",
       "      <th>offnet_mou_6</th>\n",
       "      <th>offnet_mou_7</th>\n",
       "      <th>offnet_mou_8</th>\n",
       "      <th>...</th>\n",
       "      <th>sachet_3g_6</th>\n",
       "      <th>sachet_3g_7</th>\n",
       "      <th>sachet_3g_8</th>\n",
       "      <th>fb_user_6</th>\n",
       "      <th>fb_user_7</th>\n",
       "      <th>fb_user_8</th>\n",
       "      <th>aon</th>\n",
       "      <th>aug_vbc_3g</th>\n",
       "      <th>jul_vbc_3g</th>\n",
       "      <th>jun_vbc_3g</th>\n",
       "    </tr>\n",
       "  </thead>\n",
       "  <tbody>\n",
       "    <tr>\n",
       "      <th>0</th>\n",
       "      <td>109</td>\n",
       "      <td>91.882</td>\n",
       "      <td>65.330</td>\n",
       "      <td>64.445</td>\n",
       "      <td>31.78</td>\n",
       "      <td>20.23</td>\n",
       "      <td>23.11</td>\n",
       "      <td>60.16</td>\n",
       "      <td>32.16</td>\n",
       "      <td>34.83</td>\n",
       "      <td>...</td>\n",
       "      <td>0</td>\n",
       "      <td>0</td>\n",
       "      <td>0</td>\n",
       "      <td>0.0</td>\n",
       "      <td>0.0</td>\n",
       "      <td>0.0</td>\n",
       "      <td>1692</td>\n",
       "      <td>0.00</td>\n",
       "      <td>0.00</td>\n",
       "      <td>0.00</td>\n",
       "    </tr>\n",
       "    <tr>\n",
       "      <th>1</th>\n",
       "      <td>109</td>\n",
       "      <td>414.168</td>\n",
       "      <td>515.568</td>\n",
       "      <td>360.868</td>\n",
       "      <td>75.51</td>\n",
       "      <td>41.21</td>\n",
       "      <td>19.84</td>\n",
       "      <td>474.34</td>\n",
       "      <td>621.84</td>\n",
       "      <td>394.94</td>\n",
       "      <td>...</td>\n",
       "      <td>0</td>\n",
       "      <td>0</td>\n",
       "      <td>0</td>\n",
       "      <td>0.0</td>\n",
       "      <td>0.0</td>\n",
       "      <td>0.0</td>\n",
       "      <td>2533</td>\n",
       "      <td>0.00</td>\n",
       "      <td>0.00</td>\n",
       "      <td>0.00</td>\n",
       "    </tr>\n",
       "    <tr>\n",
       "      <th>2</th>\n",
       "      <td>109</td>\n",
       "      <td>329.844</td>\n",
       "      <td>434.884</td>\n",
       "      <td>746.239</td>\n",
       "      <td>7.54</td>\n",
       "      <td>7.86</td>\n",
       "      <td>8.40</td>\n",
       "      <td>16.98</td>\n",
       "      <td>45.81</td>\n",
       "      <td>45.04</td>\n",
       "      <td>...</td>\n",
       "      <td>0</td>\n",
       "      <td>0</td>\n",
       "      <td>0</td>\n",
       "      <td>0.0</td>\n",
       "      <td>0.0</td>\n",
       "      <td>0.0</td>\n",
       "      <td>277</td>\n",
       "      <td>525.61</td>\n",
       "      <td>758.41</td>\n",
       "      <td>241.84</td>\n",
       "    </tr>\n",
       "    <tr>\n",
       "      <th>3</th>\n",
       "      <td>109</td>\n",
       "      <td>43.550</td>\n",
       "      <td>171.390</td>\n",
       "      <td>24.400</td>\n",
       "      <td>5.31</td>\n",
       "      <td>2.16</td>\n",
       "      <td>0.00</td>\n",
       "      <td>40.04</td>\n",
       "      <td>205.01</td>\n",
       "      <td>24.01</td>\n",
       "      <td>...</td>\n",
       "      <td>0</td>\n",
       "      <td>0</td>\n",
       "      <td>0</td>\n",
       "      <td>0.0</td>\n",
       "      <td>0.0</td>\n",
       "      <td>0.0</td>\n",
       "      <td>1244</td>\n",
       "      <td>0.00</td>\n",
       "      <td>0.00</td>\n",
       "      <td>0.00</td>\n",
       "    </tr>\n",
       "    <tr>\n",
       "      <th>4</th>\n",
       "      <td>109</td>\n",
       "      <td>306.854</td>\n",
       "      <td>406.289</td>\n",
       "      <td>413.329</td>\n",
       "      <td>450.93</td>\n",
       "      <td>609.03</td>\n",
       "      <td>700.68</td>\n",
       "      <td>60.94</td>\n",
       "      <td>23.84</td>\n",
       "      <td>74.16</td>\n",
       "      <td>...</td>\n",
       "      <td>0</td>\n",
       "      <td>0</td>\n",
       "      <td>0</td>\n",
       "      <td>0.0</td>\n",
       "      <td>0.0</td>\n",
       "      <td>0.0</td>\n",
       "      <td>462</td>\n",
       "      <td>0.00</td>\n",
       "      <td>0.00</td>\n",
       "      <td>0.00</td>\n",
       "    </tr>\n",
       "  </tbody>\n",
       "</table>\n",
       "<p>5 rows × 158 columns</p>\n",
       "</div>"
      ],
      "text/plain": [
       "   circle_id   arpu_6   arpu_7   arpu_8  onnet_mou_6  onnet_mou_7  \\\n",
       "0        109   91.882   65.330   64.445        31.78        20.23   \n",
       "1        109  414.168  515.568  360.868        75.51        41.21   \n",
       "2        109  329.844  434.884  746.239         7.54         7.86   \n",
       "3        109   43.550  171.390   24.400         5.31         2.16   \n",
       "4        109  306.854  406.289  413.329       450.93       609.03   \n",
       "\n",
       "   onnet_mou_8  offnet_mou_6  offnet_mou_7  offnet_mou_8  ...  sachet_3g_6  \\\n",
       "0        23.11         60.16         32.16         34.83  ...            0   \n",
       "1        19.84        474.34        621.84        394.94  ...            0   \n",
       "2         8.40         16.98         45.81         45.04  ...            0   \n",
       "3         0.00         40.04        205.01         24.01  ...            0   \n",
       "4       700.68         60.94         23.84         74.16  ...            0   \n",
       "\n",
       "   sachet_3g_7  sachet_3g_8  fb_user_6  fb_user_7  fb_user_8   aon  \\\n",
       "0            0            0        0.0        0.0        0.0  1692   \n",
       "1            0            0        0.0        0.0        0.0  2533   \n",
       "2            0            0        0.0        0.0        0.0   277   \n",
       "3            0            0        0.0        0.0        0.0  1244   \n",
       "4            0            0        0.0        0.0        0.0   462   \n",
       "\n",
       "   aug_vbc_3g  jul_vbc_3g  jun_vbc_3g  \n",
       "0        0.00        0.00        0.00  \n",
       "1        0.00        0.00        0.00  \n",
       "2      525.61      758.41      241.84  \n",
       "3        0.00        0.00        0.00  \n",
       "4        0.00        0.00        0.00  \n",
       "\n",
       "[5 rows x 158 columns]"
      ]
     },
     "execution_count": 46,
     "metadata": {},
     "output_type": "execute_result"
    }
   ],
   "source": [
    "# Divide into X and y\n",
    "X_test = df_test.drop([\"id\"], axis=1)\n",
    "X_test.head()"
   ]
  },
  {
   "cell_type": "code",
   "execution_count": null,
   "id": "a9d65c89",
   "metadata": {},
   "outputs": [],
   "source": []
  },
  {
   "cell_type": "code",
   "execution_count": null,
   "id": "d3723192",
   "metadata": {},
   "outputs": [],
   "source": []
  },
  {
   "cell_type": "code",
   "execution_count": 47,
   "id": "13c56be1",
   "metadata": {},
   "outputs": [
    {
     "data": {
      "text/html": [
       "<div>\n",
       "<style scoped>\n",
       "    .dataframe tbody tr th:only-of-type {\n",
       "        vertical-align: middle;\n",
       "    }\n",
       "\n",
       "    .dataframe tbody tr th {\n",
       "        vertical-align: top;\n",
       "    }\n",
       "\n",
       "    .dataframe thead th {\n",
       "        text-align: right;\n",
       "    }\n",
       "</style>\n",
       "<table border=\"1\" class=\"dataframe\">\n",
       "  <thead>\n",
       "    <tr style=\"text-align: right;\">\n",
       "      <th></th>\n",
       "      <th>circle_id</th>\n",
       "      <th>arpu_6</th>\n",
       "      <th>arpu_7</th>\n",
       "      <th>arpu_8</th>\n",
       "      <th>onnet_mou_6</th>\n",
       "      <th>onnet_mou_7</th>\n",
       "      <th>onnet_mou_8</th>\n",
       "      <th>offnet_mou_6</th>\n",
       "      <th>offnet_mou_7</th>\n",
       "      <th>offnet_mou_8</th>\n",
       "      <th>...</th>\n",
       "      <th>sachet_3g_6</th>\n",
       "      <th>sachet_3g_7</th>\n",
       "      <th>sachet_3g_8</th>\n",
       "      <th>fb_user_6</th>\n",
       "      <th>fb_user_7</th>\n",
       "      <th>fb_user_8</th>\n",
       "      <th>aon</th>\n",
       "      <th>aug_vbc_3g</th>\n",
       "      <th>jul_vbc_3g</th>\n",
       "      <th>jun_vbc_3g</th>\n",
       "    </tr>\n",
       "  </thead>\n",
       "  <tbody>\n",
       "    <tr>\n",
       "      <th>0</th>\n",
       "      <td>0.0</td>\n",
       "      <td>0.170024</td>\n",
       "      <td>0.316293</td>\n",
       "      <td>0.160595</td>\n",
       "      <td>0.004308</td>\n",
       "      <td>0.002480</td>\n",
       "      <td>0.002149</td>\n",
       "      <td>0.007194</td>\n",
       "      <td>0.004771</td>\n",
       "      <td>0.004904</td>\n",
       "      <td>...</td>\n",
       "      <td>0.0</td>\n",
       "      <td>0.0</td>\n",
       "      <td>0.0</td>\n",
       "      <td>0.0</td>\n",
       "      <td>0.0</td>\n",
       "      <td>0.0</td>\n",
       "      <td>0.363724</td>\n",
       "      <td>0.000000</td>\n",
       "      <td>0.000000</td>\n",
       "      <td>0.0000</td>\n",
       "    </tr>\n",
       "    <tr>\n",
       "      <th>1</th>\n",
       "      <td>0.0</td>\n",
       "      <td>0.230737</td>\n",
       "      <td>0.421387</td>\n",
       "      <td>0.246215</td>\n",
       "      <td>0.010236</td>\n",
       "      <td>0.005052</td>\n",
       "      <td>0.001845</td>\n",
       "      <td>0.056723</td>\n",
       "      <td>0.092260</td>\n",
       "      <td>0.055607</td>\n",
       "      <td>...</td>\n",
       "      <td>0.0</td>\n",
       "      <td>0.0</td>\n",
       "      <td>0.0</td>\n",
       "      <td>0.0</td>\n",
       "      <td>0.0</td>\n",
       "      <td>0.0</td>\n",
       "      <td>0.566033</td>\n",
       "      <td>0.000000</td>\n",
       "      <td>0.000000</td>\n",
       "      <td>0.0000</td>\n",
       "    </tr>\n",
       "    <tr>\n",
       "      <th>2</th>\n",
       "      <td>0.0</td>\n",
       "      <td>0.214851</td>\n",
       "      <td>0.402553</td>\n",
       "      <td>0.357527</td>\n",
       "      <td>0.001022</td>\n",
       "      <td>0.000963</td>\n",
       "      <td>0.000781</td>\n",
       "      <td>0.002031</td>\n",
       "      <td>0.006797</td>\n",
       "      <td>0.006342</td>\n",
       "      <td>...</td>\n",
       "      <td>0.0</td>\n",
       "      <td>0.0</td>\n",
       "      <td>0.0</td>\n",
       "      <td>0.0</td>\n",
       "      <td>0.0</td>\n",
       "      <td>0.0</td>\n",
       "      <td>0.023334</td>\n",
       "      <td>0.040694</td>\n",
       "      <td>0.082745</td>\n",
       "      <td>0.0319</td>\n",
       "    </tr>\n",
       "    <tr>\n",
       "      <th>3</th>\n",
       "      <td>0.0</td>\n",
       "      <td>0.160919</td>\n",
       "      <td>0.341049</td>\n",
       "      <td>0.149028</td>\n",
       "      <td>0.000720</td>\n",
       "      <td>0.000265</td>\n",
       "      <td>0.000000</td>\n",
       "      <td>0.004788</td>\n",
       "      <td>0.030417</td>\n",
       "      <td>0.003381</td>\n",
       "      <td>...</td>\n",
       "      <td>0.0</td>\n",
       "      <td>0.0</td>\n",
       "      <td>0.0</td>\n",
       "      <td>0.0</td>\n",
       "      <td>0.0</td>\n",
       "      <td>0.0</td>\n",
       "      <td>0.255954</td>\n",
       "      <td>0.000000</td>\n",
       "      <td>0.000000</td>\n",
       "      <td>0.0000</td>\n",
       "    </tr>\n",
       "    <tr>\n",
       "      <th>4</th>\n",
       "      <td>0.0</td>\n",
       "      <td>0.210521</td>\n",
       "      <td>0.395879</td>\n",
       "      <td>0.261368</td>\n",
       "      <td>0.061129</td>\n",
       "      <td>0.074656</td>\n",
       "      <td>0.065164</td>\n",
       "      <td>0.007287</td>\n",
       "      <td>0.003537</td>\n",
       "      <td>0.010442</td>\n",
       "      <td>...</td>\n",
       "      <td>0.0</td>\n",
       "      <td>0.0</td>\n",
       "      <td>0.0</td>\n",
       "      <td>0.0</td>\n",
       "      <td>0.0</td>\n",
       "      <td>0.0</td>\n",
       "      <td>0.067837</td>\n",
       "      <td>0.000000</td>\n",
       "      <td>0.000000</td>\n",
       "      <td>0.0000</td>\n",
       "    </tr>\n",
       "  </tbody>\n",
       "</table>\n",
       "<p>5 rows × 158 columns</p>\n",
       "</div>"
      ],
      "text/plain": [
       "   circle_id    arpu_6    arpu_7    arpu_8  onnet_mou_6  onnet_mou_7  \\\n",
       "0        0.0  0.170024  0.316293  0.160595     0.004308     0.002480   \n",
       "1        0.0  0.230737  0.421387  0.246215     0.010236     0.005052   \n",
       "2        0.0  0.214851  0.402553  0.357527     0.001022     0.000963   \n",
       "3        0.0  0.160919  0.341049  0.149028     0.000720     0.000265   \n",
       "4        0.0  0.210521  0.395879  0.261368     0.061129     0.074656   \n",
       "\n",
       "   onnet_mou_8  offnet_mou_6  offnet_mou_7  offnet_mou_8  ...  sachet_3g_6  \\\n",
       "0     0.002149      0.007194      0.004771      0.004904  ...          0.0   \n",
       "1     0.001845      0.056723      0.092260      0.055607  ...          0.0   \n",
       "2     0.000781      0.002031      0.006797      0.006342  ...          0.0   \n",
       "3     0.000000      0.004788      0.030417      0.003381  ...          0.0   \n",
       "4     0.065164      0.007287      0.003537      0.010442  ...          0.0   \n",
       "\n",
       "   sachet_3g_7  sachet_3g_8  fb_user_6  fb_user_7  fb_user_8       aon  \\\n",
       "0          0.0          0.0        0.0        0.0        0.0  0.363724   \n",
       "1          0.0          0.0        0.0        0.0        0.0  0.566033   \n",
       "2          0.0          0.0        0.0        0.0        0.0  0.023334   \n",
       "3          0.0          0.0        0.0        0.0        0.0  0.255954   \n",
       "4          0.0          0.0        0.0        0.0        0.0  0.067837   \n",
       "\n",
       "   aug_vbc_3g  jul_vbc_3g  jun_vbc_3g  \n",
       "0    0.000000    0.000000      0.0000  \n",
       "1    0.000000    0.000000      0.0000  \n",
       "2    0.040694    0.082745      0.0319  \n",
       "3    0.000000    0.000000      0.0000  \n",
       "4    0.000000    0.000000      0.0000  \n",
       "\n",
       "[5 rows x 158 columns]"
      ]
     },
     "execution_count": 47,
     "metadata": {},
     "output_type": "execute_result"
    }
   ],
   "source": [
    "# Scale test set\n",
    "cols = X_test.columns\n",
    "X_test= pd.DataFrame(scaler.transform(X_test), columns=cols)\n",
    " \n",
    "X_test.head()"
   ]
  },
  {
   "cell_type": "code",
   "execution_count": 48,
   "id": "9df8d848",
   "metadata": {},
   "outputs": [
    {
     "data": {
      "text/plain": [
       "(30000, 50)"
      ]
     },
     "execution_count": 48,
     "metadata": {},
     "output_type": "execute_result"
    }
   ],
   "source": [
    "# Transform using PCA model trained earlier\n",
    "X_test_pca = pca.transform(X_test)\n",
    "X_test_pca.shape"
   ]
  },
  {
   "cell_type": "markdown",
   "id": "c9ce09a1",
   "metadata": {},
   "source": [
    "# 7. Predict using Random Forest classifier"
   ]
  },
  {
   "cell_type": "code",
   "execution_count": 49,
   "id": "a65e6e2d",
   "metadata": {},
   "outputs": [],
   "source": [
    "y_test_pred = rf_Classifier.predict(X_test_pca)"
   ]
  },
  {
   "cell_type": "code",
   "execution_count": 50,
   "id": "2ab134e0",
   "metadata": {},
   "outputs": [
    {
     "data": {
      "text/plain": [
       "(30000,)"
      ]
     },
     "execution_count": 50,
     "metadata": {},
     "output_type": "execute_result"
    }
   ],
   "source": [
    "y_test_pred.shape"
   ]
  },
  {
   "cell_type": "code",
   "execution_count": 51,
   "id": "a528c821",
   "metadata": {},
   "outputs": [],
   "source": [
    "np.savetxt('submission.csv', \n",
    "           np.c_[df_test.id,y_test_pred], \n",
    "           delimiter=',', \n",
    "           header = 'id,churn_probability', \n",
    "           comments = '', \n",
    "           fmt='%d')"
   ]
  },
  {
   "cell_type": "code",
   "execution_count": 52,
   "id": "10305881",
   "metadata": {},
   "outputs": [],
   "source": [
    "# Submission score .90683"
   ]
  },
  {
   "cell_type": "markdown",
   "id": "461dc4f7",
   "metadata": {},
   "source": [
    "# 8. Building Random Forest - Model 2"
   ]
  },
  {
   "cell_type": "code",
   "execution_count": 53,
   "id": "369ac136",
   "metadata": {},
   "outputs": [
    {
     "data": {
      "text/plain": [
       "RandomForestClassifier(n_estimators=300)"
      ]
     },
     "execution_count": 53,
     "metadata": {},
     "output_type": "execute_result"
    }
   ],
   "source": [
    "pca70 = PCA(random_state=42, n_components=70)\n",
    "\n",
    "X_train_pca70 = pca70.fit_transform(X_train)\n",
    "\n",
    "rf_Classifier.fit(X_train_pca70, y_train)"
   ]
  },
  {
   "cell_type": "code",
   "execution_count": 54,
   "id": "a8f8846b",
   "metadata": {},
   "outputs": [],
   "source": [
    "X_test_pca70 = pca70.transform(X_test)\n",
    "y_test_pred70 = rf_Classifier.predict(X_test_pca70)"
   ]
  },
  {
   "cell_type": "code",
   "execution_count": 55,
   "id": "f229ac29",
   "metadata": {},
   "outputs": [],
   "source": [
    "np.savetxt('submission1.csv', \n",
    "           np.c_[df_test.id,y_test_pred70], \n",
    "           delimiter=',', \n",
    "           header = 'id,churn_probability', \n",
    "           comments = '', \n",
    "           fmt='%d')"
   ]
  },
  {
   "cell_type": "code",
   "execution_count": 56,
   "id": "285b8d89",
   "metadata": {},
   "outputs": [],
   "source": [
    "# Submission score .90746"
   ]
  },
  {
   "cell_type": "markdown",
   "id": "a141a7b9",
   "metadata": {},
   "source": [
    "# 9. Building Random forest - Model 3"
   ]
  },
  {
   "cell_type": "code",
   "execution_count": 57,
   "id": "d51c0e84",
   "metadata": {},
   "outputs": [
    {
     "data": {
      "text/plain": [
       "RandomForestClassifier(n_estimators=400)"
      ]
     },
     "execution_count": 57,
     "metadata": {},
     "output_type": "execute_result"
    }
   ],
   "source": [
    "pca80 = PCA(random_state=42, n_components=80)\n",
    "\n",
    "X_train_pca80 = pca80.fit_transform(X_train)\n",
    "\n",
    "rf_Classifier80 = RF(n_estimators=400)\n",
    "rf_Classifier80.fit(X_train_pca80, y_train)"
   ]
  },
  {
   "cell_type": "code",
   "execution_count": 58,
   "id": "f0011460",
   "metadata": {},
   "outputs": [],
   "source": [
    "X_test_pca80 = pca80.transform(X_test)\n",
    "y_test_pred80 = rf_Classifier80.predict(X_test_pca80)"
   ]
  },
  {
   "cell_type": "code",
   "execution_count": 59,
   "id": "21e68539",
   "metadata": {},
   "outputs": [],
   "source": [
    "np.savetxt('submission2.csv', \n",
    "           np.c_[df_test.id,y_test_pred80], \n",
    "           delimiter=',', \n",
    "           header = 'id,churn_probability', \n",
    "           comments = '', \n",
    "           fmt='%d')"
   ]
  },
  {
   "cell_type": "code",
   "execution_count": 60,
   "id": "fa476322",
   "metadata": {},
   "outputs": [],
   "source": [
    "# Submission score .90513"
   ]
  },
  {
   "cell_type": "markdown",
   "id": "18611299",
   "metadata": {},
   "source": [
    "# 10. Random forest - Model 4"
   ]
  },
  {
   "cell_type": "code",
   "execution_count": 61,
   "id": "df00bbe6",
   "metadata": {},
   "outputs": [
    {
     "data": {
      "text/plain": [
       "RandomForestClassifier(n_estimators=300)"
      ]
     },
     "execution_count": 61,
     "metadata": {},
     "output_type": "execute_result"
    }
   ],
   "source": [
    "pca75 = PCA(random_state=42, n_components=75)\n",
    "\n",
    "X_train_pca75 = pca75.fit_transform(X_train)\n",
    "\n",
    "rf_Classifier75 = RF(n_estimators=300)\n",
    "rf_Classifier75.fit(X_train_pca75, y_train)"
   ]
  },
  {
   "cell_type": "code",
   "execution_count": 62,
   "id": "c1981a3f",
   "metadata": {},
   "outputs": [],
   "source": [
    "X_test_pca75 = pca75.transform(X_test)\n",
    "y_test_pred75 = rf_Classifier75.predict(X_test_pca75)"
   ]
  },
  {
   "cell_type": "code",
   "execution_count": 63,
   "id": "27e42e99",
   "metadata": {},
   "outputs": [],
   "source": [
    "np.savetxt('submission3.csv', \n",
    "           np.c_[df_test.id,y_test_pred75], \n",
    "           delimiter=',', \n",
    "           header = 'id,churn_probability', \n",
    "           comments = '', \n",
    "           fmt='%d')"
   ]
  },
  {
   "cell_type": "code",
   "execution_count": 64,
   "id": "4a34284e",
   "metadata": {},
   "outputs": [],
   "source": [
    "# No improvement in Score"
   ]
  },
  {
   "cell_type": "markdown",
   "id": "7e847280",
   "metadata": {},
   "source": [
    "# 11. Trying a different approach"
   ]
  },
  {
   "cell_type": "code",
   "execution_count": 65,
   "id": "92ffcc67",
   "metadata": {},
   "outputs": [
    {
     "data": {
      "text/plain": [
       "0        6/22/2014\n",
       "1        6/12/2014\n",
       "2        6/11/2014\n",
       "3        6/15/2014\n",
       "4        6/25/2014\n",
       "           ...    \n",
       "69994    6/18/2014\n",
       "69995    6/28/2014\n",
       "69996    6/25/2014\n",
       "69997    6/29/2014\n",
       "69998    6/19/2014\n",
       "Name: date_of_last_rech_6, Length: 69914, dtype: object"
      ]
     },
     "execution_count": 65,
     "metadata": {},
     "output_type": "execute_result"
    }
   ],
   "source": [
    "# Extract date from the date_of_last_rech_* fields and perform rest of the steps as is\n",
    "# Run the best model so far on this new train and test data\n",
    "df_train_new.date_of_last_rech_6"
   ]
  },
  {
   "cell_type": "code",
   "execution_count": 66,
   "id": "8427e32a",
   "metadata": {},
   "outputs": [
    {
     "data": {
      "text/plain": [
       "0       2014-06-22\n",
       "1       2014-06-12\n",
       "2       2014-06-11\n",
       "3       2014-06-15\n",
       "4       2014-06-25\n",
       "           ...    \n",
       "69994   2014-06-18\n",
       "69995   2014-06-28\n",
       "69996   2014-06-25\n",
       "69997   2014-06-29\n",
       "69998   2014-06-19\n",
       "Name: date_of_last_rech_6, Length: 69914, dtype: datetime64[ns]"
      ]
     },
     "execution_count": 66,
     "metadata": {},
     "output_type": "execute_result"
    }
   ],
   "source": [
    "df_train_new.date_of_last_rech_6 = pd.to_datetime(df_train_new.date_of_last_rech_6)\n",
    "df_train_new.date_of_last_rech_6"
   ]
  },
  {
   "cell_type": "code",
   "execution_count": 67,
   "id": "eadcf955",
   "metadata": {},
   "outputs": [
    {
     "data": {
      "text/plain": [
       "0        22\n",
       "1        12\n",
       "2        11\n",
       "3        15\n",
       "4        25\n",
       "         ..\n",
       "69994    18\n",
       "69995    28\n",
       "69996    25\n",
       "69997    29\n",
       "69998    19\n",
       "Name: date_of_last_rech_6, Length: 69914, dtype: int64"
      ]
     },
     "execution_count": 67,
     "metadata": {},
     "output_type": "execute_result"
    }
   ],
   "source": [
    "df_train_new.date_of_last_rech_6 = df_train_new.date_of_last_rech_6.apply(lambda x: x.day)\n",
    "df_train_new.date_of_last_rech_6"
   ]
  },
  {
   "cell_type": "code",
   "execution_count": 68,
   "id": "9ea0a630",
   "metadata": {},
   "outputs": [
    {
     "data": {
      "text/plain": [
       "0       1970-01-01\n",
       "1       1970-01-01\n",
       "2       1970-01-01\n",
       "3       1970-01-01\n",
       "4       2014-08-20\n",
       "           ...    \n",
       "69994   2014-08-21\n",
       "69995   1970-01-01\n",
       "69996   1970-01-01\n",
       "69997   2014-08-14\n",
       "69998   2014-08-08\n",
       "Name: date_of_last_rech_data_8, Length: 69914, dtype: datetime64[ns]"
      ]
     },
     "execution_count": 68,
     "metadata": {},
     "output_type": "execute_result"
    }
   ],
   "source": [
    "# Transform date fileds for new training set\n",
    "df_train_new.date_of_last_rech_7 = pd.to_datetime(df_train_new.date_of_last_rech_7)\n",
    "df_train_new.date_of_last_rech_8 = pd.to_datetime(df_train_new.date_of_last_rech_8)\n",
    "df_train_new.date_of_last_rech_data_6 = pd.to_datetime(df_train_new.date_of_last_rech_data_6)\n",
    "df_train_new.date_of_last_rech_data_7 = pd.to_datetime(df_train_new.date_of_last_rech_data_7)\n",
    "df_train_new.date_of_last_rech_data_8 = pd.to_datetime(df_train_new.date_of_last_rech_data_8)\n",
    "df_train_new.date_of_last_rech_data_8"
   ]
  },
  {
   "cell_type": "code",
   "execution_count": 69,
   "id": "f8927a26",
   "metadata": {},
   "outputs": [
    {
     "data": {
      "text/plain": [
       "0         1\n",
       "1         1\n",
       "2         1\n",
       "3         1\n",
       "4        20\n",
       "         ..\n",
       "69994    21\n",
       "69995     1\n",
       "69996     1\n",
       "69997    14\n",
       "69998     8\n",
       "Name: date_of_last_rech_data_8, Length: 69914, dtype: int64"
      ]
     },
     "execution_count": 69,
     "metadata": {},
     "output_type": "execute_result"
    }
   ],
   "source": [
    "df_train_new.date_of_last_rech_7 = df_train_new.date_of_last_rech_7.apply(lambda x: x.day)\n",
    "df_train_new.date_of_last_rech_8 = df_train_new.date_of_last_rech_8.apply(lambda x: x.day)\n",
    "df_train_new.date_of_last_rech_data_6 = df_train_new.date_of_last_rech_data_6.apply(lambda x: x.day)\n",
    "df_train_new.date_of_last_rech_data_7 = df_train_new.date_of_last_rech_data_7.apply(lambda x: x.day)\n",
    "df_train_new.date_of_last_rech_data_8 = df_train_new.date_of_last_rech_data_8.apply(lambda x: x.day)\n",
    "df_train_new.date_of_last_rech_data_8"
   ]
  },
  {
   "cell_type": "code",
   "execution_count": 70,
   "id": "860b5f08",
   "metadata": {},
   "outputs": [],
   "source": [
    "X_train_new = df_train_new.drop([\"id\", \"churn_probability\"], axis=1)\n",
    "y_train_new = df_train_new[\"churn_probability\"]"
   ]
  },
  {
   "cell_type": "code",
   "execution_count": 76,
   "id": "8c0fc065",
   "metadata": {},
   "outputs": [
    {
     "data": {
      "text/html": [
       "<div>\n",
       "<style scoped>\n",
       "    .dataframe tbody tr th:only-of-type {\n",
       "        vertical-align: middle;\n",
       "    }\n",
       "\n",
       "    .dataframe tbody tr th {\n",
       "        vertical-align: top;\n",
       "    }\n",
       "\n",
       "    .dataframe thead th {\n",
       "        text-align: right;\n",
       "    }\n",
       "</style>\n",
       "<table border=\"1\" class=\"dataframe\">\n",
       "  <thead>\n",
       "    <tr style=\"text-align: right;\">\n",
       "      <th></th>\n",
       "      <th>circle_id</th>\n",
       "      <th>arpu_6</th>\n",
       "      <th>arpu_7</th>\n",
       "      <th>arpu_8</th>\n",
       "      <th>onnet_mou_6</th>\n",
       "      <th>onnet_mou_7</th>\n",
       "      <th>onnet_mou_8</th>\n",
       "      <th>offnet_mou_6</th>\n",
       "      <th>offnet_mou_7</th>\n",
       "      <th>offnet_mou_8</th>\n",
       "      <th>...</th>\n",
       "      <th>sachet_3g_6</th>\n",
       "      <th>sachet_3g_7</th>\n",
       "      <th>sachet_3g_8</th>\n",
       "      <th>fb_user_6</th>\n",
       "      <th>fb_user_7</th>\n",
       "      <th>fb_user_8</th>\n",
       "      <th>aon</th>\n",
       "      <th>aug_vbc_3g</th>\n",
       "      <th>jul_vbc_3g</th>\n",
       "      <th>jun_vbc_3g</th>\n",
       "    </tr>\n",
       "  </thead>\n",
       "  <tbody>\n",
       "    <tr>\n",
       "      <th>0</th>\n",
       "      <td>0.0</td>\n",
       "      <td>0.158607</td>\n",
       "      <td>0.321353</td>\n",
       "      <td>0.144154</td>\n",
       "      <td>0.006586</td>\n",
       "      <td>0.015247</td>\n",
       "      <td>0.00012</td>\n",
       "      <td>0.003855</td>\n",
       "      <td>0.014344</td>\n",
       "      <td>0.000328</td>\n",
       "      <td>...</td>\n",
       "      <td>0.0</td>\n",
       "      <td>0.000000</td>\n",
       "      <td>0.0</td>\n",
       "      <td>0.0</td>\n",
       "      <td>0.0</td>\n",
       "      <td>0.0</td>\n",
       "      <td>0.427712</td>\n",
       "      <td>0.0</td>\n",
       "      <td>0.0</td>\n",
       "      <td>0.0</td>\n",
       "    </tr>\n",
       "    <tr>\n",
       "      <th>1</th>\n",
       "      <td>0.0</td>\n",
       "      <td>0.152715</td>\n",
       "      <td>0.329704</td>\n",
       "      <td>0.154387</td>\n",
       "      <td>0.000000</td>\n",
       "      <td>0.000000</td>\n",
       "      <td>0.00000</td>\n",
       "      <td>0.000000</td>\n",
       "      <td>0.003856</td>\n",
       "      <td>0.004349</td>\n",
       "      <td>...</td>\n",
       "      <td>0.0</td>\n",
       "      <td>0.000000</td>\n",
       "      <td>0.0</td>\n",
       "      <td>0.0</td>\n",
       "      <td>1.0</td>\n",
       "      <td>0.0</td>\n",
       "      <td>0.127496</td>\n",
       "      <td>0.0</td>\n",
       "      <td>0.0</td>\n",
       "      <td>0.0</td>\n",
       "    </tr>\n",
       "    <tr>\n",
       "      <th>2</th>\n",
       "      <td>0.0</td>\n",
       "      <td>0.164169</td>\n",
       "      <td>0.325127</td>\n",
       "      <td>0.141980</td>\n",
       "      <td>0.000072</td>\n",
       "      <td>0.001953</td>\n",
       "      <td>0.00000</td>\n",
       "      <td>0.006456</td>\n",
       "      <td>0.012173</td>\n",
       "      <td>0.000000</td>\n",
       "      <td>...</td>\n",
       "      <td>0.0</td>\n",
       "      <td>0.000000</td>\n",
       "      <td>0.0</td>\n",
       "      <td>0.0</td>\n",
       "      <td>0.0</td>\n",
       "      <td>0.0</td>\n",
       "      <td>0.168872</td>\n",
       "      <td>0.0</td>\n",
       "      <td>0.0</td>\n",
       "      <td>0.0</td>\n",
       "    </tr>\n",
       "    <tr>\n",
       "      <th>3</th>\n",
       "      <td>0.0</td>\n",
       "      <td>0.182170</td>\n",
       "      <td>0.348955</td>\n",
       "      <td>0.174069</td>\n",
       "      <td>0.000984</td>\n",
       "      <td>0.001963</td>\n",
       "      <td>0.00000</td>\n",
       "      <td>0.008223</td>\n",
       "      <td>0.011644</td>\n",
       "      <td>0.007072</td>\n",
       "      <td>...</td>\n",
       "      <td>0.0</td>\n",
       "      <td>0.000000</td>\n",
       "      <td>0.0</td>\n",
       "      <td>0.0</td>\n",
       "      <td>0.0</td>\n",
       "      <td>0.0</td>\n",
       "      <td>0.192928</td>\n",
       "      <td>0.0</td>\n",
       "      <td>0.0</td>\n",
       "      <td>0.0</td>\n",
       "    </tr>\n",
       "    <tr>\n",
       "      <th>4</th>\n",
       "      <td>0.0</td>\n",
       "      <td>0.198060</td>\n",
       "      <td>0.330966</td>\n",
       "      <td>0.171316</td>\n",
       "      <td>0.002885</td>\n",
       "      <td>0.000592</td>\n",
       "      <td>0.00057</td>\n",
       "      <td>0.006815</td>\n",
       "      <td>0.005654</td>\n",
       "      <td>0.001356</td>\n",
       "      <td>...</td>\n",
       "      <td>0.0</td>\n",
       "      <td>0.030303</td>\n",
       "      <td>0.0</td>\n",
       "      <td>1.0</td>\n",
       "      <td>1.0</td>\n",
       "      <td>1.0</td>\n",
       "      <td>0.112341</td>\n",
       "      <td>0.0</td>\n",
       "      <td>0.0</td>\n",
       "      <td>0.0</td>\n",
       "    </tr>\n",
       "  </tbody>\n",
       "</table>\n",
       "<p>5 rows × 158 columns</p>\n",
       "</div>"
      ],
      "text/plain": [
       "   circle_id    arpu_6    arpu_7    arpu_8  onnet_mou_6  onnet_mou_7  \\\n",
       "0        0.0  0.158607  0.321353  0.144154     0.006586     0.015247   \n",
       "1        0.0  0.152715  0.329704  0.154387     0.000000     0.000000   \n",
       "2        0.0  0.164169  0.325127  0.141980     0.000072     0.001953   \n",
       "3        0.0  0.182170  0.348955  0.174069     0.000984     0.001963   \n",
       "4        0.0  0.198060  0.330966  0.171316     0.002885     0.000592   \n",
       "\n",
       "   onnet_mou_8  offnet_mou_6  offnet_mou_7  offnet_mou_8  ...  sachet_3g_6  \\\n",
       "0      0.00012      0.003855      0.014344      0.000328  ...          0.0   \n",
       "1      0.00000      0.000000      0.003856      0.004349  ...          0.0   \n",
       "2      0.00000      0.006456      0.012173      0.000000  ...          0.0   \n",
       "3      0.00000      0.008223      0.011644      0.007072  ...          0.0   \n",
       "4      0.00057      0.006815      0.005654      0.001356  ...          0.0   \n",
       "\n",
       "   sachet_3g_7  sachet_3g_8  fb_user_6  fb_user_7  fb_user_8       aon  \\\n",
       "0     0.000000          0.0        0.0        0.0        0.0  0.427712   \n",
       "1     0.000000          0.0        0.0        1.0        0.0  0.127496   \n",
       "2     0.000000          0.0        0.0        0.0        0.0  0.168872   \n",
       "3     0.000000          0.0        0.0        0.0        0.0  0.192928   \n",
       "4     0.030303          0.0        1.0        1.0        1.0  0.112341   \n",
       "\n",
       "   aug_vbc_3g  jul_vbc_3g  jun_vbc_3g  \n",
       "0         0.0         0.0         0.0  \n",
       "1         0.0         0.0         0.0  \n",
       "2         0.0         0.0         0.0  \n",
       "3         0.0         0.0         0.0  \n",
       "4         0.0         0.0         0.0  \n",
       "\n",
       "[5 rows x 158 columns]"
      ]
     },
     "execution_count": 76,
     "metadata": {},
     "output_type": "execute_result"
    }
   ],
   "source": [
    "scaler_new = MinMaxScaler()\n",
    "\n",
    "cols = X_train_new.columns\n",
    "X_train_new= pd.DataFrame(scaler_new.fit_transform(X_train_new), columns=cols)\n",
    " \n",
    "X_train_new.head()"
   ]
  },
  {
   "cell_type": "code",
   "execution_count": 72,
   "id": "252dd1ed",
   "metadata": {},
   "outputs": [],
   "source": [
    "# Transform new test set\n",
    "df_test_new.date_of_last_rech_6 = pd.to_datetime(df_test_new.date_of_last_rech_6)\n",
    "df_test_new.date_of_last_rech_7 = pd.to_datetime(df_test_new.date_of_last_rech_7)\n",
    "df_test_new.date_of_last_rech_8 = pd.to_datetime(df_test_new.date_of_last_rech_8)\n",
    "df_test_new.date_of_last_rech_data_6 = pd.to_datetime(df_test_new.date_of_last_rech_data_6)\n",
    "df_test_new.date_of_last_rech_data_7 = pd.to_datetime(df_test_new.date_of_last_rech_data_7)\n",
    "df_test_new.date_of_last_rech_data_8 = pd.to_datetime(df_test_new.date_of_last_rech_data_8)"
   ]
  },
  {
   "cell_type": "code",
   "execution_count": 73,
   "id": "c7c46fd7",
   "metadata": {},
   "outputs": [],
   "source": [
    "df_test_new.date_of_last_rech_6 = df_test_new.date_of_last_rech_6.apply(lambda x: x.day)\n",
    "df_test_new.date_of_last_rech_7 = df_test_new.date_of_last_rech_7.apply(lambda x: x.day)\n",
    "df_test_new.date_of_last_rech_8 = df_test_new.date_of_last_rech_8.apply(lambda x: x.day)\n",
    "df_test_new.date_of_last_rech_data_6 = df_test_new.date_of_last_rech_data_6.apply(lambda x: x.day)\n",
    "df_test_new.date_of_last_rech_data_7 = df_test_new.date_of_last_rech_data_7.apply(lambda x: x.day)\n",
    "df_test_new.date_of_last_rech_data_8 = df_test_new.date_of_last_rech_data_8.apply(lambda x: x.day)"
   ]
  },
  {
   "cell_type": "code",
   "execution_count": 74,
   "id": "cf643fa6",
   "metadata": {},
   "outputs": [],
   "source": [
    "X_test_new = df_test_new.drop([\"id\"], axis=1)"
   ]
  },
  {
   "cell_type": "code",
   "execution_count": 77,
   "id": "59bcd942",
   "metadata": {},
   "outputs": [
    {
     "data": {
      "text/html": [
       "<div>\n",
       "<style scoped>\n",
       "    .dataframe tbody tr th:only-of-type {\n",
       "        vertical-align: middle;\n",
       "    }\n",
       "\n",
       "    .dataframe tbody tr th {\n",
       "        vertical-align: top;\n",
       "    }\n",
       "\n",
       "    .dataframe thead th {\n",
       "        text-align: right;\n",
       "    }\n",
       "</style>\n",
       "<table border=\"1\" class=\"dataframe\">\n",
       "  <thead>\n",
       "    <tr style=\"text-align: right;\">\n",
       "      <th></th>\n",
       "      <th>circle_id</th>\n",
       "      <th>arpu_6</th>\n",
       "      <th>arpu_7</th>\n",
       "      <th>arpu_8</th>\n",
       "      <th>onnet_mou_6</th>\n",
       "      <th>onnet_mou_7</th>\n",
       "      <th>onnet_mou_8</th>\n",
       "      <th>offnet_mou_6</th>\n",
       "      <th>offnet_mou_7</th>\n",
       "      <th>offnet_mou_8</th>\n",
       "      <th>...</th>\n",
       "      <th>sachet_3g_6</th>\n",
       "      <th>sachet_3g_7</th>\n",
       "      <th>sachet_3g_8</th>\n",
       "      <th>fb_user_6</th>\n",
       "      <th>fb_user_7</th>\n",
       "      <th>fb_user_8</th>\n",
       "      <th>aon</th>\n",
       "      <th>aug_vbc_3g</th>\n",
       "      <th>jul_vbc_3g</th>\n",
       "      <th>jun_vbc_3g</th>\n",
       "    </tr>\n",
       "  </thead>\n",
       "  <tbody>\n",
       "    <tr>\n",
       "      <th>0</th>\n",
       "      <td>109.0</td>\n",
       "      <td>91.882</td>\n",
       "      <td>65.330</td>\n",
       "      <td>64.445</td>\n",
       "      <td>31.78</td>\n",
       "      <td>20.23</td>\n",
       "      <td>23.11</td>\n",
       "      <td>60.16</td>\n",
       "      <td>32.16</td>\n",
       "      <td>34.83</td>\n",
       "      <td>...</td>\n",
       "      <td>0.0</td>\n",
       "      <td>0.0</td>\n",
       "      <td>0.0</td>\n",
       "      <td>0.0</td>\n",
       "      <td>0.0</td>\n",
       "      <td>0.0</td>\n",
       "      <td>1692.0</td>\n",
       "      <td>0.00</td>\n",
       "      <td>0.00</td>\n",
       "      <td>0.00</td>\n",
       "    </tr>\n",
       "    <tr>\n",
       "      <th>1</th>\n",
       "      <td>109.0</td>\n",
       "      <td>414.168</td>\n",
       "      <td>515.568</td>\n",
       "      <td>360.868</td>\n",
       "      <td>75.51</td>\n",
       "      <td>41.21</td>\n",
       "      <td>19.84</td>\n",
       "      <td>474.34</td>\n",
       "      <td>621.84</td>\n",
       "      <td>394.94</td>\n",
       "      <td>...</td>\n",
       "      <td>0.0</td>\n",
       "      <td>0.0</td>\n",
       "      <td>0.0</td>\n",
       "      <td>0.0</td>\n",
       "      <td>0.0</td>\n",
       "      <td>0.0</td>\n",
       "      <td>2533.0</td>\n",
       "      <td>0.00</td>\n",
       "      <td>0.00</td>\n",
       "      <td>0.00</td>\n",
       "    </tr>\n",
       "    <tr>\n",
       "      <th>2</th>\n",
       "      <td>109.0</td>\n",
       "      <td>329.844</td>\n",
       "      <td>434.884</td>\n",
       "      <td>746.239</td>\n",
       "      <td>7.54</td>\n",
       "      <td>7.86</td>\n",
       "      <td>8.40</td>\n",
       "      <td>16.98</td>\n",
       "      <td>45.81</td>\n",
       "      <td>45.04</td>\n",
       "      <td>...</td>\n",
       "      <td>0.0</td>\n",
       "      <td>0.0</td>\n",
       "      <td>0.0</td>\n",
       "      <td>0.0</td>\n",
       "      <td>0.0</td>\n",
       "      <td>0.0</td>\n",
       "      <td>277.0</td>\n",
       "      <td>525.61</td>\n",
       "      <td>758.41</td>\n",
       "      <td>241.84</td>\n",
       "    </tr>\n",
       "    <tr>\n",
       "      <th>3</th>\n",
       "      <td>109.0</td>\n",
       "      <td>43.550</td>\n",
       "      <td>171.390</td>\n",
       "      <td>24.400</td>\n",
       "      <td>5.31</td>\n",
       "      <td>2.16</td>\n",
       "      <td>0.00</td>\n",
       "      <td>40.04</td>\n",
       "      <td>205.01</td>\n",
       "      <td>24.01</td>\n",
       "      <td>...</td>\n",
       "      <td>0.0</td>\n",
       "      <td>0.0</td>\n",
       "      <td>0.0</td>\n",
       "      <td>0.0</td>\n",
       "      <td>0.0</td>\n",
       "      <td>0.0</td>\n",
       "      <td>1244.0</td>\n",
       "      <td>0.00</td>\n",
       "      <td>0.00</td>\n",
       "      <td>0.00</td>\n",
       "    </tr>\n",
       "    <tr>\n",
       "      <th>4</th>\n",
       "      <td>109.0</td>\n",
       "      <td>306.854</td>\n",
       "      <td>406.289</td>\n",
       "      <td>413.329</td>\n",
       "      <td>450.93</td>\n",
       "      <td>609.03</td>\n",
       "      <td>700.68</td>\n",
       "      <td>60.94</td>\n",
       "      <td>23.84</td>\n",
       "      <td>74.16</td>\n",
       "      <td>...</td>\n",
       "      <td>0.0</td>\n",
       "      <td>0.0</td>\n",
       "      <td>0.0</td>\n",
       "      <td>0.0</td>\n",
       "      <td>0.0</td>\n",
       "      <td>0.0</td>\n",
       "      <td>462.0</td>\n",
       "      <td>0.00</td>\n",
       "      <td>0.00</td>\n",
       "      <td>0.00</td>\n",
       "    </tr>\n",
       "  </tbody>\n",
       "</table>\n",
       "<p>5 rows × 158 columns</p>\n",
       "</div>"
      ],
      "text/plain": [
       "   circle_id   arpu_6   arpu_7   arpu_8  onnet_mou_6  onnet_mou_7  \\\n",
       "0      109.0   91.882   65.330   64.445        31.78        20.23   \n",
       "1      109.0  414.168  515.568  360.868        75.51        41.21   \n",
       "2      109.0  329.844  434.884  746.239         7.54         7.86   \n",
       "3      109.0   43.550  171.390   24.400         5.31         2.16   \n",
       "4      109.0  306.854  406.289  413.329       450.93       609.03   \n",
       "\n",
       "   onnet_mou_8  offnet_mou_6  offnet_mou_7  offnet_mou_8  ...  sachet_3g_6  \\\n",
       "0        23.11         60.16         32.16         34.83  ...          0.0   \n",
       "1        19.84        474.34        621.84        394.94  ...          0.0   \n",
       "2         8.40         16.98         45.81         45.04  ...          0.0   \n",
       "3         0.00         40.04        205.01         24.01  ...          0.0   \n",
       "4       700.68         60.94         23.84         74.16  ...          0.0   \n",
       "\n",
       "   sachet_3g_7  sachet_3g_8  fb_user_6  fb_user_7  fb_user_8     aon  \\\n",
       "0          0.0          0.0        0.0        0.0        0.0  1692.0   \n",
       "1          0.0          0.0        0.0        0.0        0.0  2533.0   \n",
       "2          0.0          0.0        0.0        0.0        0.0   277.0   \n",
       "3          0.0          0.0        0.0        0.0        0.0  1244.0   \n",
       "4          0.0          0.0        0.0        0.0        0.0   462.0   \n",
       "\n",
       "   aug_vbc_3g  jul_vbc_3g  jun_vbc_3g  \n",
       "0        0.00        0.00        0.00  \n",
       "1        0.00        0.00        0.00  \n",
       "2      525.61      758.41      241.84  \n",
       "3        0.00        0.00        0.00  \n",
       "4        0.00        0.00        0.00  \n",
       "\n",
       "[5 rows x 158 columns]"
      ]
     },
     "execution_count": 77,
     "metadata": {},
     "output_type": "execute_result"
    }
   ],
   "source": [
    "cols = X_test_new.columns\n",
    "X_test_new= pd.DataFrame(scaler_new.transform(X_test_new), columns=cols)\n",
    " \n",
    "X_test_new.head()"
   ]
  },
  {
   "cell_type": "code",
   "execution_count": 80,
   "id": "139a161c",
   "metadata": {},
   "outputs": [
    {
     "data": {
      "text/plain": [
       "RandomForestClassifier(n_estimators=300)"
      ]
     },
     "execution_count": 80,
     "metadata": {},
     "output_type": "execute_result"
    }
   ],
   "source": [
    "# Building model with new data sets\n",
    "pca70_new = PCA(random_state=42, n_components=70)\n",
    "\n",
    "X_train_pca70_new = pca70_new.fit_transform(X_train_new)\n",
    "\n",
    "rf_Classifier.fit(X_train_pca70_new, y_train_new)"
   ]
  },
  {
   "cell_type": "code",
   "execution_count": 81,
   "id": "a0eacfe4",
   "metadata": {},
   "outputs": [],
   "source": [
    "X_test_pca70_new = pca70_new.transform(X_test_new)\n",
    "y_test_pred70_new = rf_Classifier.predict(X_test_pca70_new)"
   ]
  },
  {
   "cell_type": "code",
   "execution_count": 82,
   "id": "1ea4eb78",
   "metadata": {},
   "outputs": [],
   "source": [
    "np.savetxt('submission4.csv', \n",
    "           np.c_[df_test_new.id,y_test_pred70_new], \n",
    "           delimiter=',', \n",
    "           header = 'id,churn_probability', \n",
    "           comments = '', \n",
    "           fmt='%d')"
   ]
  },
  {
   "cell_type": "code",
   "execution_count": 83,
   "id": "55aa4a7d",
   "metadata": {},
   "outputs": [],
   "source": [
    "# It did not help improving the score"
   ]
  },
  {
   "cell_type": "code",
   "execution_count": null,
   "id": "98768f9a",
   "metadata": {},
   "outputs": [],
   "source": []
  }
 ],
 "metadata": {
  "kernelspec": {
   "display_name": "Python 3 (ipykernel)",
   "language": "python",
   "name": "python3"
  },
  "language_info": {
   "codemirror_mode": {
    "name": "ipython",
    "version": 3
   },
   "file_extension": ".py",
   "mimetype": "text/x-python",
   "name": "python",
   "nbconvert_exporter": "python",
   "pygments_lexer": "ipython3",
   "version": "3.9.7"
  }
 },
 "nbformat": 4,
 "nbformat_minor": 5
}
